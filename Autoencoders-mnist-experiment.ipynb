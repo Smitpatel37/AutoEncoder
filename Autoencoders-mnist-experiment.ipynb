{
 "cells": [
  {
   "cell_type": "markdown",
   "metadata": {},
   "source": [
    "# Deep inside: Autoencoders"
   ]
  },
  {
   "cell_type": "markdown",
   "metadata": {},
   "source": [
    "1. Vanilla autoencoders\n",
    "2. Multilayer autoencoder\n"
   ]
  },
  {
   "cell_type": "markdown",
   "metadata": {},
   "source": [
    "## Import the libraries"
   ]
  },
  {
   "cell_type": "code",
   "execution_count": 1,
   "metadata": {},
   "outputs": [
    {
     "name": "stderr",
     "output_type": "stream",
     "text": [
      "Using TensorFlow backend.\n"
     ]
    }
   ],
   "source": [
    "import keras\n",
    "import numpy as np\n",
    "import matplotlib.pyplot as plt\n",
    "%matplotlib inline\n",
    "\n",
    "from keras.datasets import mnist\n",
    "from keras.models import Model\n",
    "from keras.layers import Input, add\n",
    "from keras.layers.core import Layer, Dense, Dropout, Activation, Flatten, Reshape\n",
    "from keras import regularizers\n",
    "from keras.regularizers import l2\n",
    "from keras.layers.convolutional import Conv2D, MaxPooling2D, UpSampling2D, ZeroPadding2D\n",
    "from keras.utils import np_utils"
   ]
  },
  {
   "cell_type": "markdown",
   "metadata": {},
   "source": [
    "## Load the data"
   ]
  },
  {
   "cell_type": "markdown",
   "metadata": {},
   "source": [
    "We don't need the labels as the autoencoders are unsupervised network"
   ]
  },
  {
   "cell_type": "code",
   "execution_count": 2,
   "metadata": {},
   "outputs": [],
   "source": [
    "(X_train, y_train), (X_test, y_test) = mnist.load_data()\n",
    "\n",
    "X_train = X_train.reshape(X_train.shape[0], 28, 28, 1)\n",
    "X_test = X_test.reshape(X_test.shape[0], 28, 28, 1)"
   ]
  },
  {
   "cell_type": "markdown",
   "metadata": {},
   "source": [
    "## Normalize the data"
   ]
  },
  {
   "cell_type": "markdown",
   "metadata": {},
   "source": [
    "We want the pixels values between 0 and 1 instead of between 0 and 255"
   ]
  },
  {
   "cell_type": "code",
   "execution_count": 3,
   "metadata": {},
   "outputs": [
    {
     "name": "stdout",
     "output_type": "stream",
     "text": [
      "X_train shape: (60000, 28, 28, 1)\n",
      "60000 train samples\n",
      "10000 test samples\n"
     ]
    }
   ],
   "source": [
    "X_train = X_train.astype(\"float32\")/255.\n",
    "X_test = X_test.astype(\"float32\")/255.\n",
    "\n",
    "print('X_train shape:', X_train.shape)\n",
    "print(X_train.shape[0], 'train samples')\n",
    "print(X_test.shape[0], 'test samples')"
   ]
  },
  {
   "cell_type": "markdown",
   "metadata": {},
   "source": [
    "## Flatten the images for the Fully-Connected Networks"
   ]
  },
  {
   "cell_type": "code",
   "execution_count": 4,
   "metadata": {},
   "outputs": [
    {
     "data": {
      "text/plain": [
       "(60000, 784)"
      ]
     },
     "execution_count": 4,
     "metadata": {},
     "output_type": "execute_result"
    }
   ],
   "source": [
    "X_train = X_train.reshape((len(X_train), np.prod(X_train.shape[1:])))\n",
    "X_test = X_test.reshape((len(X_test), np.prod(X_test.shape[1:])))\n",
    "X_train.shape"
   ]
  },
  {
   "cell_type": "markdown",
   "metadata": {},
   "source": [
    "___"
   ]
  },
  {
   "cell_type": "markdown",
   "metadata": {},
   "source": [
    "# **Vanilla Autoencoder**"
   ]
  },
  {
   "cell_type": "markdown",
   "metadata": {},
   "source": [
    "### Create the network"
   ]
  },
  {
   "cell_type": "markdown",
   "metadata": {},
   "source": [
    "The first network is the most simple autoencoder. It has three layers : Input - encoded - decoded"
   ]
  },
  {
   "cell_type": "code",
   "execution_count": 46,
   "metadata": {},
   "outputs": [],
   "source": [
    "input_size = 784\n",
    "hidden_size = 64\n",
    "output_size = 784"
   ]
  },
  {
   "cell_type": "code",
   "execution_count": 47,
   "metadata": {},
   "outputs": [],
   "source": [
    "x = Input(shape=(input_size,))\n",
    "h = Dense(hidden_size, activation='relu')(x)\n",
    "r = Dense(output_size, activation='sigmoid')(h)\n",
    "\n",
    "autoencoder = Model(inputs=x, outputs=r)\n",
    "autoencoder.compile(optimizer='adam', loss='mse')"
   ]
  },
  {
   "cell_type": "code",
   "execution_count": 48,
   "metadata": {},
   "outputs": [
    {
     "data": {
      "image/svg+xml": [
       "<svg height=\"255pt\" viewBox=\"0.00 0.00 134.00 191.00\" width=\"179pt\" xmlns=\"http://www.w3.org/2000/svg\" xmlns:xlink=\"http://www.w3.org/1999/xlink\">\n",
       "<g class=\"graph\" id=\"graph0\" transform=\"scale(1.33333 1.33333) rotate(0) translate(4 187)\">\n",
       "<title>G</title>\n",
       "<polygon fill=\"white\" points=\"-4,4 -4,-187 130,-187 130,4 -4,4\" stroke=\"none\"/>\n",
       "<!-- 2809082319088 -->\n",
       "<g class=\"node\" id=\"node1\"><title>2809082319088</title>\n",
       "<polygon fill=\"none\" points=\"0,-146.5 0,-182.5 126,-182.5 126,-146.5 0,-146.5\" stroke=\"black\"/>\n",
       "<text font-family=\"Times New Roman,serif\" font-size=\"14.00\" text-anchor=\"middle\" x=\"63\" y=\"-160.8\">input_3: InputLayer</text>\n",
       "</g>\n",
       "<!-- 2809082322280 -->\n",
       "<g class=\"node\" id=\"node2\"><title>2809082322280</title>\n",
       "<polygon fill=\"none\" points=\"7.5,-73.5 7.5,-109.5 118.5,-109.5 118.5,-73.5 7.5,-73.5\" stroke=\"black\"/>\n",
       "<text font-family=\"Times New Roman,serif\" font-size=\"14.00\" text-anchor=\"middle\" x=\"63\" y=\"-87.8\">dense_13: Dense</text>\n",
       "</g>\n",
       "<!-- 2809082319088&#45;&gt;2809082322280 -->\n",
       "<g class=\"edge\" id=\"edge1\"><title>2809082319088-&gt;2809082322280</title>\n",
       "<path d=\"M63,-146.313C63,-138.289 63,-128.547 63,-119.569\" fill=\"none\" stroke=\"black\"/>\n",
       "<polygon fill=\"black\" points=\"66.5001,-119.529 63,-109.529 59.5001,-119.529 66.5001,-119.529\" stroke=\"black\"/>\n",
       "</g>\n",
       "<!-- 2809082043248 -->\n",
       "<g class=\"node\" id=\"node3\"><title>2809082043248</title>\n",
       "<polygon fill=\"none\" points=\"7.5,-0.5 7.5,-36.5 118.5,-36.5 118.5,-0.5 7.5,-0.5\" stroke=\"black\"/>\n",
       "<text font-family=\"Times New Roman,serif\" font-size=\"14.00\" text-anchor=\"middle\" x=\"63\" y=\"-14.8\">dense_14: Dense</text>\n",
       "</g>\n",
       "<!-- 2809082322280&#45;&gt;2809082043248 -->\n",
       "<g class=\"edge\" id=\"edge2\"><title>2809082322280-&gt;2809082043248</title>\n",
       "<path d=\"M63,-73.3129C63,-65.2895 63,-55.5475 63,-46.5691\" fill=\"none\" stroke=\"black\"/>\n",
       "<polygon fill=\"black\" points=\"66.5001,-46.5288 63,-36.5288 59.5001,-46.5289 66.5001,-46.5288\" stroke=\"black\"/>\n",
       "</g>\n",
       "</g>\n",
       "</svg>"
      ],
      "text/plain": [
       "<IPython.core.display.SVG object>"
      ]
     },
     "execution_count": 48,
     "metadata": {},
     "output_type": "execute_result"
    }
   ],
   "source": [
    "from IPython.display import SVG\n",
    "from keras.utils.vis_utils import model_to_dot\n",
    "\n",
    "SVG(model_to_dot(autoencoder).create(prog='dot', format='svg'))"
   ]
  },
  {
   "cell_type": "markdown",
   "metadata": {},
   "source": [
    "### Train"
   ]
  },
  {
   "cell_type": "code",
   "execution_count": 49,
   "metadata": {},
   "outputs": [
    {
     "name": "stdout",
     "output_type": "stream",
     "text": [
      "Train on 60000 samples, validate on 10000 samples\n",
      "Epoch 1/50\n",
      "60000/60000 [==============================] - 2s 29us/step - loss: 0.0443 - val_loss: 0.0224\n",
      "Epoch 2/50\n",
      "60000/60000 [==============================] - 2s 26us/step - loss: 0.0173 - val_loss: 0.0129\n",
      "Epoch 3/50\n",
      "60000/60000 [==============================] - 2s 28us/step - loss: 0.0109 - val_loss: 0.0087\n",
      "Epoch 4/50\n",
      "60000/60000 [==============================] - 2s 27us/step - loss: 0.0077 - val_loss: 0.0066\n",
      "Epoch 5/50\n",
      "60000/60000 [==============================] - 2s 27us/step - loss: 0.0061 - val_loss: 0.0055\n",
      "Epoch 6/50\n",
      "60000/60000 [==============================] - 2s 27us/step - loss: 0.0053 - val_loss: 0.0049\n",
      "Epoch 7/50\n",
      "60000/60000 [==============================] - 2s 27us/step - loss: 0.0049 - val_loss: 0.0045\n",
      "Epoch 8/50\n",
      "60000/60000 [==============================] - 2s 26us/step - loss: 0.0046 - val_loss: 0.0043\n",
      "Epoch 9/50\n",
      "60000/60000 [==============================] - 2s 26us/step - loss: 0.0044 - val_loss: 0.0042\n",
      "Epoch 10/50\n",
      "60000/60000 [==============================] - 2s 27us/step - loss: 0.0043 - val_loss: 0.0041\n",
      "Epoch 11/50\n",
      "60000/60000 [==============================] - 2s 26us/step - loss: 0.0042 - val_loss: 0.0040\n",
      "Epoch 12/50\n",
      "60000/60000 [==============================] - 2s 26us/step - loss: 0.0041 - val_loss: 0.0040\n",
      "Epoch 13/50\n",
      "60000/60000 [==============================] - 2s 28us/step - loss: 0.0041 - val_loss: 0.0040\n",
      "Epoch 14/50\n",
      "60000/60000 [==============================] - 2s 26us/step - loss: 0.0041 - val_loss: 0.0039\n",
      "Epoch 15/50\n",
      "60000/60000 [==============================] - 2s 26us/step - loss: 0.0040 - val_loss: 0.0039\n",
      "Epoch 16/50\n",
      "60000/60000 [==============================] - 2s 28us/step - loss: 0.0040 - val_loss: 0.0039\n",
      "Epoch 17/50\n",
      "60000/60000 [==============================] - 2s 26us/step - loss: 0.0040 - val_loss: 0.0038\n",
      "Epoch 18/50\n",
      "60000/60000 [==============================] - 2s 26us/step - loss: 0.0040 - val_loss: 0.0038\n",
      "Epoch 19/50\n",
      "60000/60000 [==============================] - 2s 28us/step - loss: 0.0039 - val_loss: 0.0038\n",
      "Epoch 20/50\n",
      "60000/60000 [==============================] - 2s 26us/step - loss: 0.0039 - val_loss: 0.0038\n",
      "Epoch 21/50\n",
      "60000/60000 [==============================] - 2s 26us/step - loss: 0.0039 - val_loss: 0.0038\n",
      "Epoch 22/50\n",
      "60000/60000 [==============================] - 2s 29us/step - loss: 0.0039 - val_loss: 0.0038\n",
      "Epoch 23/50\n",
      "60000/60000 [==============================] - 2s 26us/step - loss: 0.0039 - val_loss: 0.0038\n",
      "Epoch 24/50\n",
      "60000/60000 [==============================] - 2s 26us/step - loss: 0.0039 - val_loss: 0.0038\n",
      "Epoch 25/50\n",
      "60000/60000 [==============================] - 2s 29us/step - loss: 0.0039 - val_loss: 0.0038\n",
      "Epoch 26/50\n",
      "60000/60000 [==============================] - 2s 26us/step - loss: 0.0039 - val_loss: 0.0038\n",
      "Epoch 27/50\n",
      "60000/60000 [==============================] - 2s 26us/step - loss: 0.0038 - val_loss: 0.0037\n",
      "Epoch 28/50\n",
      "60000/60000 [==============================] - 2s 29us/step - loss: 0.0038 - val_loss: 0.0037\n",
      "Epoch 29/50\n",
      "60000/60000 [==============================] - 2s 27us/step - loss: 0.0038 - val_loss: 0.0037\n",
      "Epoch 30/50\n",
      "60000/60000 [==============================] - 2s 26us/step - loss: 0.0038 - val_loss: 0.0037\n",
      "Epoch 31/50\n",
      "60000/60000 [==============================] - 2s 27us/step - loss: 0.0038 - val_loss: 0.0037\n",
      "Epoch 32/50\n",
      "60000/60000 [==============================] - 2s 28us/step - loss: 0.0038 - val_loss: 0.0037\n",
      "Epoch 33/50\n",
      "60000/60000 [==============================] - 2s 26us/step - loss: 0.0038 - val_loss: 0.0037\n",
      "Epoch 34/50\n",
      "60000/60000 [==============================] - 2s 28us/step - loss: 0.0038 - val_loss: 0.0037\n",
      "Epoch 35/50\n",
      "60000/60000 [==============================] - 2s 28us/step - loss: 0.0038 - val_loss: 0.0037\n",
      "Epoch 36/50\n",
      "60000/60000 [==============================] - 2s 28us/step - loss: 0.0037 - val_loss: 0.0037\n",
      "Epoch 37/50\n",
      "60000/60000 [==============================] - 2s 29us/step - loss: 0.0037 - val_loss: 0.0037\n",
      "Epoch 38/50\n",
      "60000/60000 [==============================] - 2s 27us/step - loss: 0.0037 - val_loss: 0.0037\n",
      "Epoch 39/50\n",
      "60000/60000 [==============================] - 2s 27us/step - loss: 0.0037 - val_loss: 0.0036\n",
      "Epoch 40/50\n",
      "60000/60000 [==============================] - 2s 27us/step - loss: 0.0037 - val_loss: 0.0037\n",
      "Epoch 41/50\n",
      "60000/60000 [==============================] - 2s 27us/step - loss: 0.0037 - val_loss: 0.0036\n",
      "Epoch 42/50\n",
      "60000/60000 [==============================] - 2s 27us/step - loss: 0.0037 - val_loss: 0.0036\n",
      "Epoch 43/50\n",
      "60000/60000 [==============================] - 2s 27us/step - loss: 0.0037 - val_loss: 0.0036\n",
      "Epoch 44/50\n",
      "60000/60000 [==============================] - 2s 28us/step - loss: 0.0037 - val_loss: 0.0036\n",
      "Epoch 45/50\n",
      "60000/60000 [==============================] - 2s 26us/step - loss: 0.0037 - val_loss: 0.0036\n",
      "Epoch 46/50\n",
      "60000/60000 [==============================] - 2s 26us/step - loss: 0.0037 - val_loss: 0.0036\n",
      "Epoch 47/50\n",
      "60000/60000 [==============================] - 2s 28us/step - loss: 0.0037 - val_loss: 0.0036\n",
      "Epoch 48/50\n",
      "60000/60000 [==============================] - 2s 26us/step - loss: 0.0037 - val_loss: 0.0036\n",
      "Epoch 49/50\n",
      "60000/60000 [==============================] - 2s 27us/step - loss: 0.0037 - val_loss: 0.0036\n",
      "Epoch 50/50\n",
      "60000/60000 [==============================] - 2s 28us/step - loss: 0.0037 - val_loss: 0.0036\n"
     ]
    }
   ],
   "source": [
    "epochs = 50\n",
    "batch_size = 128\n",
    "\n",
    "history = autoencoder.fit(X_train, X_train, batch_size=batch_size, epochs=epochs, verbose=1, validation_data=(X_test, X_test))"
   ]
  },
  {
   "cell_type": "code",
   "execution_count": 50,
   "metadata": {},
   "outputs": [
    {
     "data": {
      "image/png": "[encoded data removed]",
      "text/plain": [
       "<Figure size 1440x576 with 10 Axes>"
      ]
     },
     "metadata": {
      "needs_background": "light"
     },
     "output_type": "display_data"
    }
   ],
   "source": [
    "conv_encoder = Model(x, h)\n",
    "encoded_imgs = conv_encoder.predict(X_test)\n",
    "encoded_imgs_train = conv_encoder.predict(X_train)\n",
    "\n",
    "n = 10\n",
    "plt.figure(figsize=(20, 8))\n",
    "for i in range(n):\n",
    "    ax = plt.subplot(1, n, i+1)\n",
    "    plt.imshow(encoded_imgs[i].reshape(8, 8).T)\n",
    "    plt.gray()\n",
    "    ax.get_xaxis().set_visible(False)\n",
    "    ax.get_yaxis().set_visible(False)\n",
    "plt.show()"
   ]
  },
  {
   "cell_type": "markdown",
   "metadata": {},
   "source": [
    "### Predict on the test set"
   ]
  },
  {
   "cell_type": "code",
   "execution_count": 51,
   "metadata": {},
   "outputs": [],
   "source": [
    "decoded_imgs = autoencoder.predict(X_test)\n",
    "decoded_imgs_train = autoencoder.predict(X_train)"
   ]
  },
  {
   "cell_type": "markdown",
   "metadata": {},
   "source": [
    "### Plot"
   ]
  },
  {
   "cell_type": "code",
   "execution_count": 52,
   "metadata": {},
   "outputs": [
    {
     "data": {
      "image/png": "[encoded data removed]",
      "text/plain": [
       "<Figure size 1440x432 with 20 Axes>"
      ]
     },
     "metadata": {
      "needs_background": "light"
     },
     "output_type": "display_data"
    }
   ],
   "source": [
    "n = 10\n",
    "plt.figure(figsize=(20, 6))\n",
    "for i in range(n):\n",
    "    # display original\n",
    "    ax = plt.subplot(3, n, i+1)\n",
    "    plt.imshow(X_test[i].reshape(28, 28))\n",
    "    plt.gray()\n",
    "    ax.get_xaxis().set_visible(False)\n",
    "    ax.get_yaxis().set_visible(False)\n",
    "\n",
    "    \n",
    "    # display reconstruction\n",
    "    ax = plt.subplot(3, n, i+n+1)\n",
    "    plt.imshow(decoded_imgs[i].reshape(28, 28))\n",
    "    plt.gray()\n",
    "    ax.get_xaxis().set_visible(False)\n",
    "    ax.get_yaxis().set_visible(False)\n",
    "    \n",
    "plt.show()"
   ]
  },
  {
   "cell_type": "markdown",
   "metadata": {},
   "source": [
    "### Plot the losses"
   ]
  },
  {
   "cell_type": "code",
   "execution_count": 53,
   "metadata": {},
   "outputs": [
    {
     "name": "stdout",
     "output_type": "stream",
     "text": [
      "dict_keys(['val_loss', 'loss'])\n"
     ]
    },
    {
     "data": {
      "image/png": "[encoded data removed]",
      "text/plain": [
       "<Figure size 432x288 with 1 Axes>"
      ]
     },
     "metadata": {
      "needs_background": "light"
     },
     "output_type": "display_data"
    }
   ],
   "source": [
    "print(history.history.keys())\n",
    "\n",
    "plt.plot(history.history['loss'])\n",
    "plt.plot(history.history['val_loss'])\n",
    "plt.title('model loss')\n",
    "plt.ylabel('loss')\n",
    "plt.xlabel('epoch')\n",
    "plt.legend(['train', 'validation'], loc='upper right')\n",
    "plt.show()"
   ]
  },
  {
   "cell_type": "markdown",
   "metadata": {},
   "source": [
    "# Predicting"
   ]
  },
  {
   "cell_type": "code",
   "execution_count": 12,
   "metadata": {},
   "outputs": [],
   "source": [
    "#one-hot encoding\n",
    "from keras.models import Sequential\n",
    "\n",
    "y_train = keras.utils.to_categorical(y_train, 10)\n",
    "y_test = keras.utils.to_categorical(y_test, 10)\n"
   ]
  },
  {
   "cell_type": "code",
   "execution_count": 55,
   "metadata": {},
   "outputs": [
    {
     "name": "stdout",
     "output_type": "stream",
     "text": [
      "Model: \"sequential_4\"\n",
      "_________________________________________________________________\n",
      "Layer (type)                 Output Shape              Param #   \n",
      "=================================================================\n",
      "dense_15 (Dense)             (None, 32)                25120     \n",
      "_________________________________________________________________\n",
      "dense_16 (Dense)             (None, 10)                330       \n",
      "=================================================================\n",
      "Total params: 25,450\n",
      "Trainable params: 25,450\n",
      "Non-trainable params: 0\n",
      "_________________________________________________________________\n"
     ]
    }
   ],
   "source": [
    "image_size = 784\n",
    "\n",
    "model = Sequential()\n",
    "\n",
    "model.add(Dense(units=32, activation='sigmoid', input_shape=(image_size,)))\n",
    "model.add(Dense(units=10, activation='softmax'))\n",
    "model.summary()"
   ]
  },
  {
   "cell_type": "code",
   "execution_count": 56,
   "metadata": {},
   "outputs": [
    {
     "data": {
      "image/png": "[encoded data removed]",
      "text/plain": [
       "<Figure size 432x288 with 1 Axes>"
      ]
     },
     "metadata": {
      "needs_background": "light"
     },
     "output_type": "display_data"
    },
    {
     "name": "stdout",
     "output_type": "stream",
     "text": [
      "Test loss: 0.354\n",
      "Test accuracy: 0.904\n"
     ]
    }
   ],
   "source": [
    "model.compile(optimizer=\"sgd\", loss='categorical_crossentropy', metrics=['accuracy'])\n",
    "history = model.fit(X_train, y_train, batch_size=128, epochs=35, verbose=False, validation_split=.1)\n",
    "loss, accuracy  = model.evaluate(X_test, y_test, verbose=False)\n",
    "#print(history.history.keys())\n",
    "plt.plot(history.history['accuracy'])\n",
    "plt.plot(history.history['val_accuracy'])\n",
    "plt.title('model accuracy')\n",
    "plt.ylabel('accuracy')\n",
    "plt.xlabel('epoch')\n",
    "plt.legend(['training', 'validation'], loc='best')\n",
    "plt.show()\n",
    "\n",
    "print(f'Test loss: {loss:.3}')\n",
    "print(f'Test accuracy: {accuracy:.3}')"
   ]
  },
  {
   "cell_type": "code",
   "execution_count": 57,
   "metadata": {},
   "outputs": [
    {
     "name": "stdout",
     "output_type": "stream",
     "text": [
      "prediction: 2\n"
     ]
    },
    {
     "data": {
      "image/png": "[encoded data removed]",
      "text/plain": [
       "<Figure size 432x288 with 1 Axes>"
      ]
     },
     "metadata": {
      "needs_background": "light"
     },
     "output_type": "display_data"
    }
   ],
   "source": [
    "y_pred = model.predict(X_test)\n",
    "plt.imshow(X_test[1].reshape(28, 28),cmap='Greys')\n",
    "print(f'prediction: {y_pred[1].argmax()}')\n"
   ]
  },
  {
   "cell_type": "code",
   "execution_count": 58,
   "metadata": {},
   "outputs": [
    {
     "name": "stdout",
     "output_type": "stream",
     "text": [
      "Model: \"sequential_5\"\n",
      "_________________________________________________________________\n",
      "Layer (type)                 Output Shape              Param #   \n",
      "=================================================================\n",
      "dense_17 (Dense)             (None, 32)                25120     \n",
      "_________________________________________________________________\n",
      "dense_18 (Dense)             (None, 10)                330       \n",
      "=================================================================\n",
      "Total params: 25,450\n",
      "Trainable params: 25,450\n",
      "Non-trainable params: 0\n",
      "_________________________________________________________________\n"
     ]
    }
   ],
   "source": [
    "model1 = Sequential()\n",
    "\n",
    "model1.add(Dense(units=32, activation='sigmoid', input_shape=(image_size,)))\n",
    "model1.add(Dense(units=10, activation='softmax'))\n",
    "model1.summary()"
   ]
  },
  {
   "cell_type": "code",
   "execution_count": 59,
   "metadata": {},
   "outputs": [
    {
     "data": {
      "image/png": "[encoded data removed]",
      "text/plain": [
       "<Figure size 432x288 with 1 Axes>"
      ]
     },
     "metadata": {
      "needs_background": "light"
     },
     "output_type": "display_data"
    },
    {
     "name": "stdout",
     "output_type": "stream",
     "text": [
      "Test loss: 0.35\n",
      "Test accuracy: 0.907\n"
     ]
    }
   ],
   "source": [
    "model1.compile(optimizer=\"sgd\", loss='categorical_crossentropy', metrics=['accuracy'])\n",
    "history = model1.fit(decoded_imgs_train, y_train, batch_size=128, epochs=35, verbose=False, validation_split=.1)\n",
    "loss, accuracy  = model1.evaluate(decoded_imgs, y_test, verbose=False)\n",
    "#print(history.history.keys())\n",
    "plt.plot(history.history['accuracy'])\n",
    "plt.plot(history.history['val_accuracy'])\n",
    "plt.title('model accuracy')\n",
    "plt.ylabel('accuracy')\n",
    "plt.xlabel('epoch')\n",
    "plt.legend(['training', 'validation'], loc='best')\n",
    "plt.show()\n",
    "\n",
    "print(f'Test loss: {loss:.3}')\n",
    "print(f'Test accuracy: {accuracy:.3}')"
   ]
  },
  {
   "cell_type": "code",
   "execution_count": 60,
   "metadata": {},
   "outputs": [
    {
     "name": "stdout",
     "output_type": "stream",
     "text": [
      "Model: \"sequential_6\"\n",
      "_________________________________________________________________\n",
      "Layer (type)                 Output Shape              Param #   \n",
      "=================================================================\n",
      "dense_19 (Dense)             (None, 32)                2080      \n",
      "_________________________________________________________________\n",
      "dense_20 (Dense)             (None, 10)                330       \n",
      "=================================================================\n",
      "Total params: 2,410\n",
      "Trainable params: 2,410\n",
      "Non-trainable params: 0\n",
      "_________________________________________________________________\n"
     ]
    }
   ],
   "source": [
    "model_enc = Sequential()\n",
    "\n",
    "model_enc.add(Dense(units=32, activation='sigmoid', input_shape=(64,)))\n",
    "model_enc.add(Dense(units=10, activation='softmax'))\n",
    "model_enc.summary()"
   ]
  },
  {
   "cell_type": "code",
   "execution_count": 61,
   "metadata": {},
   "outputs": [
    {
     "data": {
      "image/png": "[encoded data removed]",
      "text/plain": [
       "<Figure size 432x288 with 1 Axes>"
      ]
     },
     "metadata": {
      "needs_background": "light"
     },
     "output_type": "display_data"
    },
    {
     "name": "stdout",
     "output_type": "stream",
     "text": [
      "Test loss: 0.313\n",
      "Test accuracy: 0.915\n"
     ]
    }
   ],
   "source": [
    "model_enc.compile(optimizer=\"sgd\", loss='categorical_crossentropy', metrics=['accuracy'])\n",
    "history = model_enc.fit(encoded_imgs_train, y_train, batch_size=128, epochs=35, verbose=False, validation_split=.1)\n",
    "loss, accuracy  = model_enc.evaluate(encoded_imgs, y_test, verbose=False)\n",
    "#print(history.history.keys())\n",
    "plt.plot(history.history['accuracy'])\n",
    "plt.plot(history.history['val_accuracy'])\n",
    "plt.title('model accuracy')\n",
    "plt.ylabel('accuracy')\n",
    "plt.xlabel('epoch')\n",
    "plt.legend(['training', 'validation'], loc='best')\n",
    "plt.show()\n",
    "\n",
    "print(f'Test loss: {loss:.3}')\n",
    "print(f'Test accuracy: {accuracy:.3}')"
   ]
  },
  {
   "cell_type": "code",
   "execution_count": 62,
   "metadata": {},
   "outputs": [],
   "source": [
    "autoencoder.save_weights(\"autoencoder_wts.h5\")"
   ]
  },
  {
   "cell_type": "code",
   "execution_count": 71,
   "metadata": {},
   "outputs": [
    {
     "data": {
      "text/plain": [
       "(10000, 784)"
      ]
     },
     "execution_count": 71,
     "metadata": {},
     "output_type": "execute_result"
    }
   ],
   "source": [
    "X_test.shape"
   ]
  },
  {
   "cell_type": "code",
   "execution_count": 64,
   "metadata": {},
   "outputs": [],
   "source": [
    "np.save('intermediate_file', encoded_imgs)\n",
    "np.save('intermediate_file_Train', encoded_imgs_train)\n",
    "np.save('intermediate_file_Y', y_test)\n",
    "np.save('intermediate_file_Y_Train', y_train)"
   ]
  },
  {
   "cell_type": "code",
   "execution_count": 102,
   "metadata": {},
   "outputs": [],
   "source": [
    "def get_data(data):\n",
    "    if data == \"mnist\":\n",
    "        X_te = np.load('intermediate_file.npy')\n",
    "        X_tr = np.load('intermediate_file_Train.npy')\n",
    "        Y_te = np.load('intermediate_file_Y.npy')\n",
    "        Y_tr = np.load('intermediate_file_Y_Train.npy')\n",
    "        return (X_te, Y_te) , (X_tr, Y_tr)\n",
    "    elif data == \"mnist_multilayer\":\n",
    "        X_te = np.load('multi_intermediate_file.npy')\n",
    "        X_tr = np.load('multi_intermediate_file_Train.npy')\n",
    "        Y_te = np.load('intermediate_file_Y.npy')\n",
    "        Y_tr = np.load('intermediate_file_Y_Train.npy')\n",
    "        return (X_te, Y_te) , (X_tr, Y_tr)\n",
    "    elif data == \"mnist_convolusional\":\n",
    "        X_te = np.load('conv_intermediate_file.npy')\n",
    "        X_tr = np.load('conv_intermediate_file_Train.npy')\n",
    "        Y_te = np.load('intermediate_file_Y.npy')\n",
    "        Y_tr = np.load('intermediate_file_Y_Train.npy')\n",
    "        return (X_te, Y_te) , (X_tr, Y_tr)\n",
    "    else:\n",
    "        print(\"INVALID!!\")"
   ]
  },
  {
   "cell_type": "code",
   "execution_count": 82,
   "metadata": {},
   "outputs": [
    {
     "data": {
      "text/plain": [
       "(10000, 64)"
      ]
     },
     "execution_count": 82,
     "metadata": {},
     "output_type": "execute_result"
    }
   ],
   "source": [
    "(enc_X_test, enc_Y_test), (enc_X_train, enc_Y_train) = get_data(\"mnist\")\n",
    "enc_X_test.shape"
   ]
  },
  {
   "cell_type": "markdown",
   "metadata": {},
   "source": [
    "# **Multilayer autoencoder**"
   ]
  },
  {
   "cell_type": "markdown",
   "metadata": {},
   "source": [
    "### Create the network"
   ]
  },
  {
   "cell_type": "markdown",
   "metadata": {},
   "source": [
    "We extend the idea of the first network to more layers"
   ]
  },
  {
   "cell_type": "code",
   "execution_count": 5,
   "metadata": {},
   "outputs": [],
   "source": [
    "input_size = 784\n",
    "hidden_size = 128\n",
    "code_size = 64\n",
    "\n",
    "x = Input(shape=(input_size,))\n",
    "hidden_1 = Dense(hidden_size, activation='relu')(x)\n",
    "h = Dense(code_size, activation='relu')(hidden_1)\n",
    "hidden_2 = Dense(hidden_size, activation='relu')(h)\n",
    "r = Dense(input_size, activation='sigmoid')(hidden_2)\n",
    "\n",
    "autoencoder = Model(inputs=x, outputs=r)\n",
    "encoder = Model(inputs=x, outputs=h)\n",
    "autoencoder.compile(optimizer='adam', loss='mse')"
   ]
  },
  {
   "cell_type": "code",
   "execution_count": 6,
   "metadata": {},
   "outputs": [
    {
     "data": {
      "image/svg+xml": [
       "<svg height=\"449pt\" viewBox=\"0.00 0.00 134.00 337.00\" width=\"179pt\" xmlns=\"http://www.w3.org/2000/svg\" xmlns:xlink=\"http://www.w3.org/1999/xlink\">\n",
       "<g class=\"graph\" id=\"graph0\" transform=\"scale(1.33333 1.33333) rotate(0) translate(4 333)\">\n",
       "<title>G</title>\n",
       "<polygon fill=\"white\" points=\"-4,4 -4,-333 130,-333 130,4 -4,4\" stroke=\"none\"/>\n",
       "<!-- 2088436174352 -->\n",
       "<g class=\"node\" id=\"node1\"><title>2088436174352</title>\n",
       "<polygon fill=\"none\" points=\"0,-292.5 0,-328.5 126,-328.5 126,-292.5 0,-292.5\" stroke=\"black\"/>\n",
       "<text font-family=\"Times New Roman,serif\" font-size=\"14.00\" text-anchor=\"middle\" x=\"63\" y=\"-306.8\">input_1: InputLayer</text>\n",
       "</g>\n",
       "<!-- 2088436174408 -->\n",
       "<g class=\"node\" id=\"node2\"><title>2088436174408</title>\n",
       "<polygon fill=\"none\" points=\"11,-219.5 11,-255.5 115,-255.5 115,-219.5 11,-219.5\" stroke=\"black\"/>\n",
       "<text font-family=\"Times New Roman,serif\" font-size=\"14.00\" text-anchor=\"middle\" x=\"63\" y=\"-233.8\">dense_1: Dense</text>\n",
       "</g>\n",
       "<!-- 2088436174352&#45;&gt;2088436174408 -->\n",
       "<g class=\"edge\" id=\"edge1\"><title>2088436174352-&gt;2088436174408</title>\n",
       "<path d=\"M63,-292.313C63,-284.289 63,-274.547 63,-265.569\" fill=\"none\" stroke=\"black\"/>\n",
       "<polygon fill=\"black\" points=\"66.5001,-265.529 63,-255.529 59.5001,-265.529 66.5001,-265.529\" stroke=\"black\"/>\n",
       "</g>\n",
       "<!-- 2088436075208 -->\n",
       "<g class=\"node\" id=\"node3\"><title>2088436075208</title>\n",
       "<polygon fill=\"none\" points=\"11,-146.5 11,-182.5 115,-182.5 115,-146.5 11,-146.5\" stroke=\"black\"/>\n",
       "<text font-family=\"Times New Roman,serif\" font-size=\"14.00\" text-anchor=\"middle\" x=\"63\" y=\"-160.8\">dense_2: Dense</text>\n",
       "</g>\n",
       "<!-- 2088436174408&#45;&gt;2088436075208 -->\n",
       "<g class=\"edge\" id=\"edge2\"><title>2088436174408-&gt;2088436075208</title>\n",
       "<path d=\"M63,-219.313C63,-211.289 63,-201.547 63,-192.569\" fill=\"none\" stroke=\"black\"/>\n",
       "<polygon fill=\"black\" points=\"66.5001,-192.529 63,-182.529 59.5001,-192.529 66.5001,-192.529\" stroke=\"black\"/>\n",
       "</g>\n",
       "<!-- 2088436224912 -->\n",
       "<g class=\"node\" id=\"node4\"><title>2088436224912</title>\n",
       "<polygon fill=\"none\" points=\"11,-73.5 11,-109.5 115,-109.5 115,-73.5 11,-73.5\" stroke=\"black\"/>\n",
       "<text font-family=\"Times New Roman,serif\" font-size=\"14.00\" text-anchor=\"middle\" x=\"63\" y=\"-87.8\">dense_3: Dense</text>\n",
       "</g>\n",
       "<!-- 2088436075208&#45;&gt;2088436224912 -->\n",
       "<g class=\"edge\" id=\"edge3\"><title>2088436075208-&gt;2088436224912</title>\n",
       "<path d=\"M63,-146.313C63,-138.289 63,-128.547 63,-119.569\" fill=\"none\" stroke=\"black\"/>\n",
       "<polygon fill=\"black\" points=\"66.5001,-119.529 63,-109.529 59.5001,-119.529 66.5001,-119.529\" stroke=\"black\"/>\n",
       "</g>\n",
       "<!-- 2088436226032 -->\n",
       "<g class=\"node\" id=\"node5\"><title>2088436226032</title>\n",
       "<polygon fill=\"none\" points=\"11,-0.5 11,-36.5 115,-36.5 115,-0.5 11,-0.5\" stroke=\"black\"/>\n",
       "<text font-family=\"Times New Roman,serif\" font-size=\"14.00\" text-anchor=\"middle\" x=\"63\" y=\"-14.8\">dense_4: Dense</text>\n",
       "</g>\n",
       "<!-- 2088436224912&#45;&gt;2088436226032 -->\n",
       "<g class=\"edge\" id=\"edge4\"><title>2088436224912-&gt;2088436226032</title>\n",
       "<path d=\"M63,-73.3129C63,-65.2895 63,-55.5475 63,-46.5691\" fill=\"none\" stroke=\"black\"/>\n",
       "<polygon fill=\"black\" points=\"66.5001,-46.5288 63,-36.5288 59.5001,-46.5289 66.5001,-46.5288\" stroke=\"black\"/>\n",
       "</g>\n",
       "</g>\n",
       "</svg>"
      ],
      "text/plain": [
       "<IPython.core.display.SVG object>"
      ]
     },
     "execution_count": 6,
     "metadata": {},
     "output_type": "execute_result"
    }
   ],
   "source": [
    "from IPython.display import SVG\n",
    "from keras.utils.vis_utils import model_to_dot\n",
    "\n",
    "SVG(model_to_dot(autoencoder).create(prog='dot', format='svg'))"
   ]
  },
  {
   "cell_type": "markdown",
   "metadata": {},
   "source": [
    "### Train the network"
   ]
  },
  {
   "cell_type": "code",
   "execution_count": 7,
   "metadata": {},
   "outputs": [
    {
     "name": "stdout",
     "output_type": "stream",
     "text": [
      "Train on 60000 samples, validate on 10000 samples\n",
      "Epoch 1/50\n",
      "60000/60000 [==============================] - 3s 45us/step - loss: 0.0408 - val_loss: 0.0184\n",
      "Epoch 2/50\n",
      "60000/60000 [==============================] - 2s 37us/step - loss: 0.0150 - val_loss: 0.0122\n",
      "Epoch 3/50\n",
      "60000/60000 [==============================] - 2s 37us/step - loss: 0.0116 - val_loss: 0.0105\n",
      "Epoch 4/50\n",
      "60000/60000 [==============================] - 2s 36us/step - loss: 0.0100 - val_loss: 0.0090\n",
      "Epoch 5/50\n",
      "60000/60000 [==============================] - 2s 37us/step - loss: 0.0089 - val_loss: 0.0082\n",
      "Epoch 6/50\n",
      "60000/60000 [==============================] - 2s 37us/step - loss: 0.0080 - val_loss: 0.0074\n",
      "Epoch 7/50\n",
      "60000/60000 [==============================] - 2s 37us/step - loss: 0.0074 - val_loss: 0.0069\n",
      "Epoch 8/50\n",
      "60000/60000 [==============================] - 2s 38us/step - loss: 0.0069 - val_loss: 0.0065\n",
      "Epoch 9/50\n",
      "60000/60000 [==============================] - 2s 38us/step - loss: 0.0065 - val_loss: 0.0062\n",
      "Epoch 10/50\n",
      "60000/60000 [==============================] - 2s 37us/step - loss: 0.0062 - val_loss: 0.0059\n",
      "Epoch 11/50\n",
      "60000/60000 [==============================] - 2s 37us/step - loss: 0.0060 - val_loss: 0.0058\n",
      "Epoch 12/50\n",
      "60000/60000 [==============================] - 2s 38us/step - loss: 0.0058 - val_loss: 0.0055\n",
      "Epoch 13/50\n",
      "60000/60000 [==============================] - 2s 38us/step - loss: 0.0056 - val_loss: 0.0056\n",
      "Epoch 14/50\n",
      "60000/60000 [==============================] - 2s 37us/step - loss: 0.0054 - val_loss: 0.0052\n",
      "Epoch 15/50\n",
      "60000/60000 [==============================] - 2s 38us/step - loss: 0.0053 - val_loss: 0.0052\n",
      "Epoch 16/50\n",
      "60000/60000 [==============================] - 2s 39us/step - loss: 0.0051 - val_loss: 0.0050\n",
      "Epoch 17/50\n",
      "60000/60000 [==============================] - 2s 38us/step - loss: 0.0050 - val_loss: 0.0048\n",
      "Epoch 18/50\n",
      "60000/60000 [==============================] - 2s 38us/step - loss: 0.0049 - val_loss: 0.0048\n",
      "Epoch 19/50\n",
      "60000/60000 [==============================] - 2s 39us/step - loss: 0.0048 - val_loss: 0.0047\n",
      "Epoch 20/50\n",
      "60000/60000 [==============================] - 2s 41us/step - loss: 0.0047 - val_loss: 0.0047\n",
      "Epoch 21/50\n",
      "60000/60000 [==============================] - 2s 40us/step - loss: 0.0047 - val_loss: 0.0046\n",
      "Epoch 22/50\n",
      "60000/60000 [==============================] - 2s 41us/step - loss: 0.0046 - val_loss: 0.0045\n",
      "Epoch 23/50\n",
      "60000/60000 [==============================] - 2s 41us/step - loss: 0.0045 - val_loss: 0.0045\n",
      "Epoch 24/50\n",
      "60000/60000 [==============================] - 2s 39us/step - loss: 0.0045 - val_loss: 0.0044\n",
      "Epoch 25/50\n",
      "60000/60000 [==============================] - 2s 38us/step - loss: 0.0044 - val_loss: 0.0043\n",
      "Epoch 26/50\n",
      "60000/60000 [==============================] - 2s 38us/step - loss: 0.0044 - val_loss: 0.0043\n",
      "Epoch 27/50\n",
      "60000/60000 [==============================] - 2s 38us/step - loss: 0.0044 - val_loss: 0.0043\n",
      "Epoch 28/50\n",
      "60000/60000 [==============================] - 2s 37us/step - loss: 0.0043 - val_loss: 0.0042\n",
      "Epoch 29/50\n",
      "60000/60000 [==============================] - 2s 37us/step - loss: 0.0043 - val_loss: 0.0043\n",
      "Epoch 30/50\n",
      "60000/60000 [==============================] - 2s 36us/step - loss: 0.0043 - val_loss: 0.0042\n",
      "Epoch 31/50\n",
      "60000/60000 [==============================] - 2s 38us/step - loss: 0.0042 - val_loss: 0.0042\n",
      "Epoch 32/50\n",
      "60000/60000 [==============================] - 2s 40us/step - loss: 0.0042 - val_loss: 0.0042\n",
      "Epoch 33/50\n",
      "60000/60000 [==============================] - 2s 38us/step - loss: 0.0042 - val_loss: 0.0041\n",
      "Epoch 34/50\n",
      "60000/60000 [==============================] - 2s 39us/step - loss: 0.0041 - val_loss: 0.0041\n",
      "Epoch 35/50\n",
      "60000/60000 [==============================] - 2s 38us/step - loss: 0.0041 - val_loss: 0.0041\n",
      "Epoch 36/50\n",
      "60000/60000 [==============================] - 2s 39us/step - loss: 0.0041 - val_loss: 0.0041\n",
      "Epoch 37/50\n",
      "60000/60000 [==============================] - 2s 39us/step - loss: 0.0041 - val_loss: 0.0041\n",
      "Epoch 38/50\n",
      "60000/60000 [==============================] - 2s 38us/step - loss: 0.0041 - val_loss: 0.0040\n",
      "Epoch 39/50\n",
      "60000/60000 [==============================] - 2s 39us/step - loss: 0.0040 - val_loss: 0.0040\n",
      "Epoch 40/50\n",
      "60000/60000 [==============================] - 2s 38us/step - loss: 0.0040 - val_loss: 0.0040\n",
      "Epoch 41/50\n",
      "60000/60000 [==============================] - 2s 38us/step - loss: 0.0040 - val_loss: 0.0040\n",
      "Epoch 42/50\n",
      "60000/60000 [==============================] - 2s 37us/step - loss: 0.0040 - val_loss: 0.0039\n",
      "Epoch 43/50\n",
      "60000/60000 [==============================] - 2s 38us/step - loss: 0.0040 - val_loss: 0.0040\n",
      "Epoch 44/50\n",
      "60000/60000 [==============================] - 2s 39us/step - loss: 0.0040 - val_loss: 0.0039\n",
      "Epoch 45/50\n",
      "60000/60000 [==============================] - 3s 43us/step - loss: 0.0040 - val_loss: 0.0040\n",
      "Epoch 46/50\n",
      "60000/60000 [==============================] - 2s 40us/step - loss: 0.0040 - val_loss: 0.0040\n",
      "Epoch 47/50\n",
      "60000/60000 [==============================] - 2s 38us/step - loss: 0.0039 - val_loss: 0.0040\n",
      "Epoch 48/50\n",
      "60000/60000 [==============================] - 2s 39us/step - loss: 0.0039 - val_loss: 0.0040\n",
      "Epoch 49/50\n",
      "60000/60000 [==============================] - 2s 38us/step - loss: 0.0039 - val_loss: 0.0039\n",
      "Epoch 50/50\n",
      "60000/60000 [==============================] - 2s 38us/step - loss: 0.0039 - val_loss: 0.0039\n"
     ]
    }
   ],
   "source": [
    "epochs = 50\n",
    "batch_size = 128\n",
    "\n",
    "history = autoencoder.fit(X_train, X_train, batch_size=batch_size, epochs=epochs, verbose=1, validation_data=(X_test, X_test))"
   ]
  },
  {
   "cell_type": "markdown",
   "metadata": {},
   "source": [
    "### Predict on the test set"
   ]
  },
  {
   "cell_type": "code",
   "execution_count": 8,
   "metadata": {},
   "outputs": [],
   "source": [
    "decoded_imgs = autoencoder.predict(X_test)\n",
    "decoded_imgs_train = autoencoder.predict(X_train)\n",
    "\n",
    "encoded_imgs = encoder.predict(X_test)\n",
    "encoded_imgs_train = encoder.predict(X_train)"
   ]
  },
  {
   "cell_type": "markdown",
   "metadata": {},
   "source": [
    "### Plot"
   ]
  },
  {
   "cell_type": "code",
   "execution_count": 9,
   "metadata": {},
   "outputs": [
    {
     "data": {
      "image/png": "[encoded data removed]",
      "text/plain": [
       "<Figure size 1440x432 with 20 Axes>"
      ]
     },
     "metadata": {
      "needs_background": "light"
     },
     "output_type": "display_data"
    }
   ],
   "source": [
    "n = 10\n",
    "plt.figure(figsize=(20, 6))\n",
    "for i in range(n):\n",
    "    # display original\n",
    "    ax = plt.subplot(3, n, i+1)\n",
    "    plt.imshow(X_test[i].reshape(28, 28))\n",
    "    plt.gray()\n",
    "    ax.get_xaxis().set_visible(False)\n",
    "    ax.get_yaxis().set_visible(False)\n",
    "\n",
    "    \n",
    "    # display reconstruction\n",
    "    ax = plt.subplot(3, n, i+n+1)\n",
    "    plt.imshow(decoded_imgs[i].reshape(28, 28))\n",
    "    plt.gray()\n",
    "    ax.get_xaxis().set_visible(False)\n",
    "    ax.get_yaxis().set_visible(False)\n",
    "    \n",
    "plt.show()"
   ]
  },
  {
   "cell_type": "markdown",
   "metadata": {},
   "source": [
    "### Plot the losses"
   ]
  },
  {
   "cell_type": "code",
   "execution_count": 10,
   "metadata": {},
   "outputs": [
    {
     "name": "stdout",
     "output_type": "stream",
     "text": [
      "dict_keys(['val_loss', 'loss'])\n"
     ]
    },
    {
     "data": {
      "image/png": "[encoded data removed]",
      "text/plain": [
       "<Figure size 432x288 with 1 Axes>"
      ]
     },
     "metadata": {
      "needs_background": "light"
     },
     "output_type": "display_data"
    }
   ],
   "source": [
    "print(history.history.keys())\n",
    "\n",
    "plt.plot(history.history['loss'])\n",
    "plt.plot(history.history['val_loss'])\n",
    "plt.title('model loss')\n",
    "plt.ylabel('loss')\n",
    "plt.xlabel('epoch')\n",
    "plt.legend(['train', 'validation'], loc='upper right')\n",
    "plt.show()"
   ]
  },
  {
   "cell_type": "markdown",
   "metadata": {},
   "source": [
    "___"
   ]
  },
  {
   "cell_type": "code",
   "execution_count": 13,
   "metadata": {},
   "outputs": [
    {
     "name": "stdout",
     "output_type": "stream",
     "text": [
      "Model: \"sequential_1\"\n",
      "_________________________________________________________________\n",
      "Layer (type)                 Output Shape              Param #   \n",
      "=================================================================\n",
      "dense_5 (Dense)              (None, 32)                2080      \n",
      "_________________________________________________________________\n",
      "dense_6 (Dense)              (None, 10)                330       \n",
      "=================================================================\n",
      "Total params: 2,410\n",
      "Trainable params: 2,410\n",
      "Non-trainable params: 0\n",
      "_________________________________________________________________\n"
     ]
    }
   ],
   "source": [
    "model_enc_mul = Sequential()\n",
    "\n",
    "model_enc_mul.add(Dense(units=32, activation='sigmoid', input_shape=(64,)))\n",
    "model_enc_mul.add(Dense(units=10, activation='softmax'))\n",
    "model_enc_mul.summary()"
   ]
  },
  {
   "cell_type": "code",
   "execution_count": 14,
   "metadata": {},
   "outputs": [
    {
     "data": {
      "image/png": "[encoded data removed]",
      "text/plain": [
       "<Figure size 432x288 with 1 Axes>"
      ]
     },
     "metadata": {
      "needs_background": "light"
     },
     "output_type": "display_data"
    },
    {
     "name": "stdout",
     "output_type": "stream",
     "text": [
      "Test loss: 0.337\n",
      "Test accuracy: 0.91\n"
     ]
    }
   ],
   "source": [
    "model_enc_mul.compile(optimizer=\"sgd\", loss='categorical_crossentropy', metrics=['accuracy'])\n",
    "history = model_enc_mul.fit(encoded_imgs_train, y_train, batch_size=128, epochs=35, verbose=False, validation_split=.1)\n",
    "loss, accuracy  = model_enc_mul.evaluate(encoded_imgs, y_test, verbose=False)\n",
    "#print(history.history.keys())\n",
    "plt.plot(history.history['accuracy'])\n",
    "plt.plot(history.history['val_accuracy'])\n",
    "plt.title('model accuracy')\n",
    "plt.ylabel('accuracy')\n",
    "plt.xlabel('epoch')\n",
    "plt.legend(['training', 'validation'], loc='best')\n",
    "plt.show()\n",
    "\n",
    "print(f'Test loss: {loss:.3}')\n",
    "print(f'Test accuracy: {accuracy:.3}')"
   ]
  },
  {
   "cell_type": "code",
   "execution_count": 80,
   "metadata": {},
   "outputs": [],
   "source": [
    "np.save('multi_intermediate_file', encoded_imgs)\n",
    "np.save('multi_intermediate_file_Train', encoded_imgs_train)"
   ]
  },
  {
   "cell_type": "code",
   "execution_count": 15,
   "metadata": {},
   "outputs": [
    {
     "name": "stdout",
     "output_type": "stream",
     "text": [
      "Model: \"sequential_2\"\n",
      "_________________________________________________________________\n",
      "Layer (type)                 Output Shape              Param #   \n",
      "=================================================================\n",
      "dense_7 (Dense)              (None, 32)                25120     \n",
      "_________________________________________________________________\n",
      "dense_8 (Dense)              (None, 10)                330       \n",
      "=================================================================\n",
      "Total params: 25,450\n",
      "Trainable params: 25,450\n",
      "Non-trainable params: 0\n",
      "_________________________________________________________________\n"
     ]
    }
   ],
   "source": [
    "model_dec_mul = Sequential()\n",
    "\n",
    "model_dec_mul.add(Dense(units=32, activation='sigmoid', input_shape=(784,)))\n",
    "model_dec_mul.add(Dense(units=10, activation='softmax'))\n",
    "model_dec_mul.summary()"
   ]
  },
  {
   "cell_type": "code",
   "execution_count": 16,
   "metadata": {},
   "outputs": [
    {
     "data": {
      "image/png": "[encoded data removed]",
      "text/plain": [
       "<Figure size 432x288 with 1 Axes>"
      ]
     },
     "metadata": {
      "needs_background": "light"
     },
     "output_type": "display_data"
    },
    {
     "name": "stdout",
     "output_type": "stream",
     "text": [
      "Test loss: 0.358\n",
      "Test accuracy: 0.906\n"
     ]
    }
   ],
   "source": [
    "model_dec_mul.compile(optimizer=\"sgd\", loss='categorical_crossentropy', metrics=['accuracy'])\n",
    "history = model_dec_mul.fit(decoded_imgs_train, y_train, batch_size=128, epochs=35, verbose=False, validation_split=.1)\n",
    "loss, accuracy  = model_dec_mul.evaluate(decoded_imgs, y_test, verbose=False)\n",
    "#print(history.history.keys())\n",
    "plt.plot(history.history['accuracy'])\n",
    "plt.plot(history.history['val_accuracy'])\n",
    "plt.title('model accuracy')\n",
    "plt.ylabel('accuracy')\n",
    "plt.xlabel('epoch')\n",
    "plt.legend(['training', 'validation'], loc='best')\n",
    "plt.show()\n",
    "\n",
    "print(f'Test loss: {loss:.3}')\n",
    "print(f'Test accuracy: {accuracy:.3}')"
   ]
  },
  {
   "cell_type": "code",
   "execution_count": 85,
   "metadata": {},
   "outputs": [
    {
     "data": {
      "text/plain": [
       "(10000, 64)"
      ]
     },
     "execution_count": 85,
     "metadata": {},
     "output_type": "execute_result"
    }
   ],
   "source": [
    "(enc_X_test, enc_Y_test), (enc_X_train, enc_Y_train) = get_data(\"mnist_multilayer\")\n",
    "enc_X_test.shape"
   ]
  },
  {
   "cell_type": "markdown",
   "metadata": {},
   "source": [
    "# **Convolutional autoencoder**"
   ]
  },
  {
   "cell_type": "code",
   "execution_count": 17,
   "metadata": {},
   "outputs": [
    {
     "name": "stdout",
     "output_type": "stream",
     "text": [
      "X_train shape: (60000, 28, 28, 1)\n",
      "60000 train samples\n",
      "10000 test samples\n"
     ]
    },
    {
     "data": {
      "text/plain": [
       "array([1., 0., 0., 0., 0., 0., 0., 0., 0., 0.], dtype=float32)"
      ]
     },
     "execution_count": 17,
     "metadata": {},
     "output_type": "execute_result"
    }
   ],
   "source": [
    "nb_classes = 10\n",
    "\n",
    "(X_train, y_train), (X_test, y_test) = mnist.load_data()\n",
    "\n",
    "X_train = X_train.reshape(X_train.shape[0], 28, 28, 1)\n",
    "X_test = X_test.reshape(X_test.shape[0], 28, 28, 1)\n",
    "X_train = X_train.astype(\"float32\")/255.\n",
    "X_test = X_test.astype(\"float32\")/255.\n",
    "print('X_train shape:', X_train.shape)\n",
    "print(X_train.shape[0], 'train samples')\n",
    "print(X_test.shape[0], 'test samples')\n",
    "\n",
    "y_train = np_utils.to_categorical(y_train, nb_classes)\n",
    "y_test = np_utils.to_categorical(y_test, nb_classes)\n",
    "y_train[1]"
   ]
  },
  {
   "cell_type": "markdown",
   "metadata": {},
   "source": [
    "### Create the network"
   ]
  },
  {
   "cell_type": "markdown",
   "metadata": {},
   "source": [
    "This network does not take flattened vectors as an input but images"
   ]
  },
  {
   "cell_type": "code",
   "execution_count": 18,
   "metadata": {},
   "outputs": [],
   "source": [
    "x = Input(shape=(28, 28,1)) \n",
    "\n",
    "# Encoder\n",
    "conv1_1 = Conv2D(16, (3, 3), activation='relu', padding='same')(x)\n",
    "pool1 = MaxPooling2D((2, 2), padding='same')(conv1_1)\n",
    "conv1_2 = Conv2D(8, (3, 3), activation='relu', padding='same')(pool1)\n",
    "pool2 = MaxPooling2D((2, 2), padding='same')(conv1_2)\n",
    "conv1_3 = Conv2D(8, (3, 3), activation='relu', padding='same')(pool2)\n",
    "h = MaxPooling2D((2, 2), padding='same')(conv1_3)\n",
    "\n",
    "\n",
    "# Decoder\n",
    "conv2_1 = Conv2D(8, (3, 3), activation='relu', padding='same')(h)\n",
    "up1 = UpSampling2D((2, 2))(conv2_1)\n",
    "conv2_2 = Conv2D(8, (3, 3), activation='relu', padding='same')(up1)\n",
    "up2 = UpSampling2D((2, 2))(conv2_2)\n",
    "conv2_3 = Conv2D(16, (3, 3), activation='relu')(up2)\n",
    "up3 = UpSampling2D((2, 2))(conv2_3)\n",
    "r = Conv2D(1, (3, 3), activation='sigmoid', padding='same')(up3)\n",
    "\n",
    "autoencoder = Model(inputs=x, outputs=r)\n",
    "Encoder = Model(x,h)\n",
    "autoencoder.compile(optimizer='adadelta', loss='binary_crossentropy')"
   ]
  },
  {
   "cell_type": "code",
   "execution_count": 19,
   "metadata": {},
   "outputs": [],
   "source": [
    "autoencoder.load_weights(\"conv_autoencoder_wts.h5\")"
   ]
  },
  {
   "cell_type": "code",
   "execution_count": 88,
   "metadata": {},
   "outputs": [
    {
     "data": {
      "image/svg+xml": [
       "<svg height=\"1325pt\" viewBox=\"0.00 0.00 217.00 994.00\" width=\"289pt\" xmlns=\"http://www.w3.org/2000/svg\" xmlns:xlink=\"http://www.w3.org/1999/xlink\">\n",
       "<g class=\"graph\" id=\"graph0\" transform=\"scale(1.33333 1.33333) rotate(0) translate(4 990)\">\n",
       "<title>G</title>\n",
       "<polygon fill=\"white\" points=\"-4,4 -4,-990 213,-990 213,4 -4,4\" stroke=\"none\"/>\n",
       "<!-- 2809085281896 -->\n",
       "<g class=\"node\" id=\"node1\"><title>2809085281896</title>\n",
       "<polygon fill=\"none\" points=\"41.5,-949.5 41.5,-985.5 167.5,-985.5 167.5,-949.5 41.5,-949.5\" stroke=\"black\"/>\n",
       "<text font-family=\"Times New Roman,serif\" font-size=\"14.00\" text-anchor=\"middle\" x=\"104.5\" y=\"-963.8\">input_5: InputLayer</text>\n",
       "</g>\n",
       "<!-- 2808939915808 -->\n",
       "<g class=\"node\" id=\"node2\"><title>2808939915808</title>\n",
       "<polygon fill=\"none\" points=\"41,-876.5 41,-912.5 168,-912.5 168,-876.5 41,-876.5\" stroke=\"black\"/>\n",
       "<text font-family=\"Times New Roman,serif\" font-size=\"14.00\" text-anchor=\"middle\" x=\"104.5\" y=\"-890.8\">conv2d_1: Conv2D</text>\n",
       "</g>\n",
       "<!-- 2809085281896&#45;&gt;2808939915808 -->\n",
       "<g class=\"edge\" id=\"edge1\"><title>2809085281896-&gt;2808939915808</title>\n",
       "<path d=\"M104.5,-949.313C104.5,-941.289 104.5,-931.547 104.5,-922.569\" fill=\"none\" stroke=\"black\"/>\n",
       "<polygon fill=\"black\" points=\"108,-922.529 104.5,-912.529 101,-922.529 108,-922.529\" stroke=\"black\"/>\n",
       "</g>\n",
       "<!-- 2808939913512 -->\n",
       "<g class=\"node\" id=\"node3\"><title>2808939913512</title>\n",
       "<polygon fill=\"none\" points=\"0,-803.5 0,-839.5 209,-839.5 209,-803.5 0,-803.5\" stroke=\"black\"/>\n",
       "<text font-family=\"Times New Roman,serif\" font-size=\"14.00\" text-anchor=\"middle\" x=\"104.5\" y=\"-817.8\">max_pooling2d_1: MaxPooling2D</text>\n",
       "</g>\n",
       "<!-- 2808939915808&#45;&gt;2808939913512 -->\n",
       "<g class=\"edge\" id=\"edge2\"><title>2808939915808-&gt;2808939913512</title>\n",
       "<path d=\"M104.5,-876.313C104.5,-868.289 104.5,-858.547 104.5,-849.569\" fill=\"none\" stroke=\"black\"/>\n",
       "<polygon fill=\"black\" points=\"108,-849.529 104.5,-839.529 101,-849.529 108,-849.529\" stroke=\"black\"/>\n",
       "</g>\n",
       "<!-- 2808939915528 -->\n",
       "<g class=\"node\" id=\"node4\"><title>2808939915528</title>\n",
       "<polygon fill=\"none\" points=\"41,-730.5 41,-766.5 168,-766.5 168,-730.5 41,-730.5\" stroke=\"black\"/>\n",
       "<text font-family=\"Times New Roman,serif\" font-size=\"14.00\" text-anchor=\"middle\" x=\"104.5\" y=\"-744.8\">conv2d_2: Conv2D</text>\n",
       "</g>\n",
       "<!-- 2808939913512&#45;&gt;2808939915528 -->\n",
       "<g class=\"edge\" id=\"edge3\"><title>2808939913512-&gt;2808939915528</title>\n",
       "<path d=\"M104.5,-803.313C104.5,-795.289 104.5,-785.547 104.5,-776.569\" fill=\"none\" stroke=\"black\"/>\n",
       "<polygon fill=\"black\" points=\"108,-776.529 104.5,-766.529 101,-776.529 108,-776.529\" stroke=\"black\"/>\n",
       "</g>\n",
       "<!-- 2808939916984 -->\n",
       "<g class=\"node\" id=\"node5\"><title>2808939916984</title>\n",
       "<polygon fill=\"none\" points=\"0,-657.5 0,-693.5 209,-693.5 209,-657.5 0,-657.5\" stroke=\"black\"/>\n",
       "<text font-family=\"Times New Roman,serif\" font-size=\"14.00\" text-anchor=\"middle\" x=\"104.5\" y=\"-671.8\">max_pooling2d_2: MaxPooling2D</text>\n",
       "</g>\n",
       "<!-- 2808939915528&#45;&gt;2808939916984 -->\n",
       "<g class=\"edge\" id=\"edge4\"><title>2808939915528-&gt;2808939916984</title>\n",
       "<path d=\"M104.5,-730.313C104.5,-722.289 104.5,-712.547 104.5,-703.569\" fill=\"none\" stroke=\"black\"/>\n",
       "<polygon fill=\"black\" points=\"108,-703.529 104.5,-693.529 101,-703.529 108,-703.529\" stroke=\"black\"/>\n",
       "</g>\n",
       "<!-- 2809037917824 -->\n",
       "<g class=\"node\" id=\"node6\"><title>2809037917824</title>\n",
       "<polygon fill=\"none\" points=\"41,-584.5 41,-620.5 168,-620.5 168,-584.5 41,-584.5\" stroke=\"black\"/>\n",
       "<text font-family=\"Times New Roman,serif\" font-size=\"14.00\" text-anchor=\"middle\" x=\"104.5\" y=\"-598.8\">conv2d_3: Conv2D</text>\n",
       "</g>\n",
       "<!-- 2808939916984&#45;&gt;2809037917824 -->\n",
       "<g class=\"edge\" id=\"edge5\"><title>2808939916984-&gt;2809037917824</title>\n",
       "<path d=\"M104.5,-657.313C104.5,-649.289 104.5,-639.547 104.5,-630.569\" fill=\"none\" stroke=\"black\"/>\n",
       "<polygon fill=\"black\" points=\"108,-630.529 104.5,-620.529 101,-630.529 108,-630.529\" stroke=\"black\"/>\n",
       "</g>\n",
       "<!-- 2809085849896 -->\n",
       "<g class=\"node\" id=\"node7\"><title>2809085849896</title>\n",
       "<polygon fill=\"none\" points=\"0,-511.5 0,-547.5 209,-547.5 209,-511.5 0,-511.5\" stroke=\"black\"/>\n",
       "<text font-family=\"Times New Roman,serif\" font-size=\"14.00\" text-anchor=\"middle\" x=\"104.5\" y=\"-525.8\">max_pooling2d_3: MaxPooling2D</text>\n",
       "</g>\n",
       "<!-- 2809037917824&#45;&gt;2809085849896 -->\n",
       "<g class=\"edge\" id=\"edge6\"><title>2809037917824-&gt;2809085849896</title>\n",
       "<path d=\"M104.5,-584.313C104.5,-576.289 104.5,-566.547 104.5,-557.569\" fill=\"none\" stroke=\"black\"/>\n",
       "<polygon fill=\"black\" points=\"108,-557.529 104.5,-547.529 101,-557.529 108,-557.529\" stroke=\"black\"/>\n",
       "</g>\n",
       "<!-- 2809085851744 -->\n",
       "<g class=\"node\" id=\"node8\"><title>2809085851744</title>\n",
       "<polygon fill=\"none\" points=\"41,-438.5 41,-474.5 168,-474.5 168,-438.5 41,-438.5\" stroke=\"black\"/>\n",
       "<text font-family=\"Times New Roman,serif\" font-size=\"14.00\" text-anchor=\"middle\" x=\"104.5\" y=\"-452.8\">conv2d_4: Conv2D</text>\n",
       "</g>\n",
       "<!-- 2809085849896&#45;&gt;2809085851744 -->\n",
       "<g class=\"edge\" id=\"edge7\"><title>2809085849896-&gt;2809085851744</title>\n",
       "<path d=\"M104.5,-511.313C104.5,-503.289 104.5,-493.547 104.5,-484.569\" fill=\"none\" stroke=\"black\"/>\n",
       "<polygon fill=\"black\" points=\"108,-484.529 104.5,-474.529 101,-484.529 108,-484.529\" stroke=\"black\"/>\n",
       "</g>\n",
       "<!-- 2809057411928 -->\n",
       "<g class=\"node\" id=\"node9\"><title>2809057411928</title>\n",
       "<polygon fill=\"none\" points=\"0,-365.5 0,-401.5 209,-401.5 209,-365.5 0,-365.5\" stroke=\"black\"/>\n",
       "<text font-family=\"Times New Roman,serif\" font-size=\"14.00\" text-anchor=\"middle\" x=\"104.5\" y=\"-379.8\">up_sampling2d_1: UpSampling2D</text>\n",
       "</g>\n",
       "<!-- 2809085851744&#45;&gt;2809057411928 -->\n",
       "<g class=\"edge\" id=\"edge8\"><title>2809085851744-&gt;2809057411928</title>\n",
       "<path d=\"M104.5,-438.313C104.5,-430.289 104.5,-420.547 104.5,-411.569\" fill=\"none\" stroke=\"black\"/>\n",
       "<polygon fill=\"black\" points=\"108,-411.529 104.5,-401.529 101,-411.529 108,-411.529\" stroke=\"black\"/>\n",
       "</g>\n",
       "<!-- 2809057414000 -->\n",
       "<g class=\"node\" id=\"node10\"><title>2809057414000</title>\n",
       "<polygon fill=\"none\" points=\"41,-292.5 41,-328.5 168,-328.5 168,-292.5 41,-292.5\" stroke=\"black\"/>\n",
       "<text font-family=\"Times New Roman,serif\" font-size=\"14.00\" text-anchor=\"middle\" x=\"104.5\" y=\"-306.8\">conv2d_5: Conv2D</text>\n",
       "</g>\n",
       "<!-- 2809057411928&#45;&gt;2809057414000 -->\n",
       "<g class=\"edge\" id=\"edge9\"><title>2809057411928-&gt;2809057414000</title>\n",
       "<path d=\"M104.5,-365.313C104.5,-357.289 104.5,-347.547 104.5,-338.569\" fill=\"none\" stroke=\"black\"/>\n",
       "<polygon fill=\"black\" points=\"108,-338.529 104.5,-328.529 101,-338.529 108,-338.529\" stroke=\"black\"/>\n",
       "</g>\n",
       "<!-- 2809057412544 -->\n",
       "<g class=\"node\" id=\"node11\"><title>2809057412544</title>\n",
       "<polygon fill=\"none\" points=\"0,-219.5 0,-255.5 209,-255.5 209,-219.5 0,-219.5\" stroke=\"black\"/>\n",
       "<text font-family=\"Times New Roman,serif\" font-size=\"14.00\" text-anchor=\"middle\" x=\"104.5\" y=\"-233.8\">up_sampling2d_2: UpSampling2D</text>\n",
       "</g>\n",
       "<!-- 2809057414000&#45;&gt;2809057412544 -->\n",
       "<g class=\"edge\" id=\"edge10\"><title>2809057414000-&gt;2809057412544</title>\n",
       "<path d=\"M104.5,-292.313C104.5,-284.289 104.5,-274.547 104.5,-265.569\" fill=\"none\" stroke=\"black\"/>\n",
       "<polygon fill=\"black\" points=\"108,-265.529 104.5,-255.529 101,-265.529 108,-265.529\" stroke=\"black\"/>\n",
       "</g>\n",
       "<!-- 2808911014152 -->\n",
       "<g class=\"node\" id=\"node12\"><title>2808911014152</title>\n",
       "<polygon fill=\"none\" points=\"41,-146.5 41,-182.5 168,-182.5 168,-146.5 41,-146.5\" stroke=\"black\"/>\n",
       "<text font-family=\"Times New Roman,serif\" font-size=\"14.00\" text-anchor=\"middle\" x=\"104.5\" y=\"-160.8\">conv2d_6: Conv2D</text>\n",
       "</g>\n",
       "<!-- 2809057412544&#45;&gt;2808911014152 -->\n",
       "<g class=\"edge\" id=\"edge11\"><title>2809057412544-&gt;2808911014152</title>\n",
       "<path d=\"M104.5,-219.313C104.5,-211.289 104.5,-201.547 104.5,-192.569\" fill=\"none\" stroke=\"black\"/>\n",
       "<polygon fill=\"black\" points=\"108,-192.529 104.5,-182.529 101,-192.529 108,-192.529\" stroke=\"black\"/>\n",
       "</g>\n",
       "<!-- 2808911014600 -->\n",
       "<g class=\"node\" id=\"node13\"><title>2808911014600</title>\n",
       "<polygon fill=\"none\" points=\"0,-73.5 0,-109.5 209,-109.5 209,-73.5 0,-73.5\" stroke=\"black\"/>\n",
       "<text font-family=\"Times New Roman,serif\" font-size=\"14.00\" text-anchor=\"middle\" x=\"104.5\" y=\"-87.8\">up_sampling2d_3: UpSampling2D</text>\n",
       "</g>\n",
       "<!-- 2808911014152&#45;&gt;2808911014600 -->\n",
       "<g class=\"edge\" id=\"edge12\"><title>2808911014152-&gt;2808911014600</title>\n",
       "<path d=\"M104.5,-146.313C104.5,-138.289 104.5,-128.547 104.5,-119.569\" fill=\"none\" stroke=\"black\"/>\n",
       "<polygon fill=\"black\" points=\"108,-119.529 104.5,-109.529 101,-119.529 108,-119.529\" stroke=\"black\"/>\n",
       "</g>\n",
       "<!-- 2808911223720 -->\n",
       "<g class=\"node\" id=\"node14\"><title>2808911223720</title>\n",
       "<polygon fill=\"none\" points=\"41,-0.5 41,-36.5 168,-36.5 168,-0.5 41,-0.5\" stroke=\"black\"/>\n",
       "<text font-family=\"Times New Roman,serif\" font-size=\"14.00\" text-anchor=\"middle\" x=\"104.5\" y=\"-14.8\">conv2d_7: Conv2D</text>\n",
       "</g>\n",
       "<!-- 2808911014600&#45;&gt;2808911223720 -->\n",
       "<g class=\"edge\" id=\"edge13\"><title>2808911014600-&gt;2808911223720</title>\n",
       "<path d=\"M104.5,-73.3129C104.5,-65.2895 104.5,-55.5475 104.5,-46.5691\" fill=\"none\" stroke=\"black\"/>\n",
       "<polygon fill=\"black\" points=\"108,-46.5288 104.5,-36.5288 101,-46.5289 108,-46.5288\" stroke=\"black\"/>\n",
       "</g>\n",
       "</g>\n",
       "</svg>"
      ],
      "text/plain": [
       "<IPython.core.display.SVG object>"
      ]
     },
     "execution_count": 88,
     "metadata": {},
     "output_type": "execute_result"
    }
   ],
   "source": [
    "from IPython.display import SVG\n",
    "from keras.utils.vis_utils import model_to_dot\n",
    "\n",
    "SVG(model_to_dot(autoencoder).create(prog='dot', format='svg'))"
   ]
  },
  {
   "cell_type": "markdown",
   "metadata": {},
   "source": [
    "### Train"
   ]
  },
  {
   "cell_type": "code",
   "execution_count": 89,
   "metadata": {},
   "outputs": [
    {
     "name": "stdout",
     "output_type": "stream",
     "text": [
      "Train on 60000 samples, validate on 10000 samples\n",
      "Epoch 1/15\n",
      "60000/60000 [==============================] - 61s 1ms/step - loss: 0.2094 - val_loss: 0.1640\n",
      "Epoch 2/15\n",
      "60000/60000 [==============================] - 62s 1ms/step - loss: 0.1521 - val_loss: 0.1449\n",
      "Epoch 3/15\n",
      "60000/60000 [==============================] - 63s 1ms/step - loss: 0.1381 - val_loss: 0.1306\n",
      "Epoch 4/15\n",
      "60000/60000 [==============================] - 61s 1ms/step - loss: 0.1301 - val_loss: 0.1262\n",
      "Epoch 5/15\n",
      "60000/60000 [==============================] - 62s 1ms/step - loss: 0.1251 - val_loss: 0.1179\n",
      "Epoch 6/15\n",
      "60000/60000 [==============================] - 61s 1ms/step - loss: 0.1218 - val_loss: 0.1206\n",
      "Epoch 7/15\n",
      "60000/60000 [==============================] - 61s 1ms/step - loss: 0.1192 - val_loss: 0.1158\n",
      "Epoch 8/15\n",
      "60000/60000 [==============================] - 61s 1ms/step - loss: 0.1173 - val_loss: 0.1161\n",
      "Epoch 9/15\n",
      "60000/60000 [==============================] - 61s 1ms/step - loss: 0.1157 - val_loss: 0.1108\n",
      "Epoch 10/15\n",
      "60000/60000 [==============================] - 61s 1ms/step - loss: 0.1143 - val_loss: 0.1132\n",
      "Epoch 11/15\n",
      "60000/60000 [==============================] - 62s 1ms/step - loss: 0.1134 - val_loss: 0.1101\n",
      "Epoch 12/15\n",
      "60000/60000 [==============================] - 61s 1ms/step - loss: 0.1124 - val_loss: 0.1124\n",
      "Epoch 13/15\n",
      "60000/60000 [==============================] - 62s 1ms/step - loss: 0.1118 - val_loss: 0.1082\n",
      "Epoch 14/15\n",
      "60000/60000 [==============================] - 61s 1ms/step - loss: 0.1110 - val_loss: 0.1108\n",
      "Epoch 15/15\n",
      "60000/60000 [==============================] - 61s 1ms/step - loss: 0.1103 - val_loss: 0.1068\n"
     ]
    }
   ],
   "source": [
    "epochs = 15\n",
    "batch_size = 128\n",
    "\n",
    "history = autoencoder.fit(X_train, X_train, batch_size=batch_size, epochs=epochs, verbose=1, validation_data=(X_test, X_test))"
   ]
  },
  {
   "cell_type": "code",
   "execution_count": 20,
   "metadata": {},
   "outputs": [],
   "source": [
    "decoded_imgs = autoencoder.predict(X_test)\n",
    "decoded_imgs_train = autoencoder.predict(X_train)\n",
    "\n",
    "encoded_imgs = Encoder.predict(X_test)\n",
    "encoded_imgs_train = Encoder.predict(X_train)\n",
    "\n",
    "encoded_imgs_train = encoded_imgs_train.reshape((len(encoded_imgs_train), np.prod(encoded_imgs_train.shape[1:])))\n",
    "encoded_imgs = encoded_imgs.reshape((len(encoded_imgs), np.prod(encoded_imgs.shape[1:])))"
   ]
  },
  {
   "cell_type": "code",
   "execution_count": 21,
   "metadata": {},
   "outputs": [],
   "source": [
    "decoded_imgs_train = decoded_imgs_train.reshape((len(decoded_imgs_train), np.prod(decoded_imgs_train.shape[1:])))\n",
    "decoded_imgs = decoded_imgs.reshape((len(decoded_imgs), np.prod(decoded_imgs.shape[1:])))"
   ]
  },
  {
   "cell_type": "markdown",
   "metadata": {},
   "source": [
    "### Plot"
   ]
  },
  {
   "cell_type": "code",
   "execution_count": 22,
   "metadata": {},
   "outputs": [
    {
     "data": {
      "image/png": "[encoded data removed]",
      "text/plain": [
       "<Figure size 1440x432 with 20 Axes>"
      ]
     },
     "metadata": {
      "needs_background": "light"
     },
     "output_type": "display_data"
    }
   ],
   "source": [
    "n = 10\n",
    "plt.figure(figsize=(20, 6))\n",
    "for i in range(n):\n",
    "    # display original\n",
    "    ax = plt.subplot(3, n, i+1)\n",
    "    plt.imshow(X_test[i].reshape(28, 28))\n",
    "    plt.gray()\n",
    "    ax.get_xaxis().set_visible(False)\n",
    "    ax.get_yaxis().set_visible(False)\n",
    "\n",
    "    \n",
    "    # display reconstruction\n",
    "    ax = plt.subplot(3, n, i+n+1)\n",
    "    plt.imshow(decoded_imgs[i].reshape(28, 28))\n",
    "    plt.gray()\n",
    "    ax.get_xaxis().set_visible(False)\n",
    "    ax.get_yaxis().set_visible(False)\n",
    "    \n",
    "plt.show()"
   ]
  },
  {
   "cell_type": "markdown",
   "metadata": {},
   "source": [
    "### Plot the losses"
   ]
  },
  {
   "cell_type": "code",
   "execution_count": 93,
   "metadata": {},
   "outputs": [
    {
     "name": "stdout",
     "output_type": "stream",
     "text": [
      "dict_keys(['val_loss', 'loss'])\n"
     ]
    },
    {
     "data": {
      "image/png": "[encoded data removed]",
      "text/plain": [
       "<Figure size 432x288 with 1 Axes>"
      ]
     },
     "metadata": {
      "needs_background": "light"
     },
     "output_type": "display_data"
    }
   ],
   "source": [
    "print(history.history.keys())\n",
    "\n",
    "plt.plot(history.history['loss'])\n",
    "plt.plot(history.history['val_loss'])\n",
    "plt.title('model loss')\n",
    "plt.ylabel('loss')\n",
    "plt.xlabel('epoch')\n",
    "plt.legend(['train', 'validation'], loc='upper right')\n",
    "plt.show()"
   ]
  },
  {
   "cell_type": "markdown",
   "metadata": {},
   "source": [
    "___"
   ]
  },
  {
   "cell_type": "code",
   "execution_count": 23,
   "metadata": {},
   "outputs": [
    {
     "name": "stdout",
     "output_type": "stream",
     "text": [
      "Model: \"sequential_3\"\n",
      "_________________________________________________________________\n",
      "Layer (type)                 Output Shape              Param #   \n",
      "=================================================================\n",
      "dense_9 (Dense)              (None, 32)                4128      \n",
      "_________________________________________________________________\n",
      "dense_10 (Dense)             (None, 10)                330       \n",
      "=================================================================\n",
      "Total params: 4,458\n",
      "Trainable params: 4,458\n",
      "Non-trainable params: 0\n",
      "_________________________________________________________________\n"
     ]
    }
   ],
   "source": [
    "model_enc_conv = Sequential()\n",
    "\n",
    "model_enc_conv.add(Dense(units=32, activation='sigmoid', input_shape=(128,)))\n",
    "model_enc_conv.add(Dense(units=10, activation='softmax'))\n",
    "model_enc_conv.summary()"
   ]
  },
  {
   "cell_type": "code",
   "execution_count": 24,
   "metadata": {},
   "outputs": [
    {
     "data": {
      "image/png": "[encoded data removed]",
      "text/plain": [
       "<Figure size 432x288 with 1 Axes>"
      ]
     },
     "metadata": {
      "needs_background": "light"
     },
     "output_type": "display_data"
    },
    {
     "name": "stdout",
     "output_type": "stream",
     "text": [
      "Test loss: 0.273\n",
      "Test accuracy: 0.931\n"
     ]
    }
   ],
   "source": [
    "model_enc_conv.compile(optimizer=\"sgd\", loss='categorical_crossentropy', metrics=['accuracy'])\n",
    "history = model_enc_conv.fit(encoded_imgs_train, y_train, batch_size=128, epochs=35, verbose=False, validation_split=.1)\n",
    "loss, accuracy  = model_enc_conv.evaluate(encoded_imgs, y_test, verbose=False)\n",
    "#print(history.history.keys())\n",
    "plt.plot(history.history['accuracy'])\n",
    "plt.plot(history.history['val_accuracy'])\n",
    "plt.title('model accuracy')\n",
    "plt.ylabel('accuracy')\n",
    "plt.xlabel('epoch')\n",
    "plt.legend(['training', 'validation'], loc='best')\n",
    "plt.show()\n",
    "\n",
    "print(f'Test loss: {loss:.3}')\n",
    "print(f'Test accuracy: {accuracy:.3}')"
   ]
  },
  {
   "cell_type": "code",
   "execution_count": 29,
   "metadata": {},
   "outputs": [
    {
     "name": "stdout",
     "output_type": "stream",
     "text": [
      "Model: \"sequential_5\"\n",
      "_________________________________________________________________\n",
      "Layer (type)                 Output Shape              Param #   \n",
      "=================================================================\n",
      "dense_13 (Dense)             (None, 32)                25120     \n",
      "_________________________________________________________________\n",
      "dense_14 (Dense)             (None, 10)                330       \n",
      "=================================================================\n",
      "Total params: 25,450\n",
      "Trainable params: 25,450\n",
      "Non-trainable params: 0\n",
      "_________________________________________________________________\n"
     ]
    }
   ],
   "source": [
    "model_dec_conv = Sequential()\n",
    "\n",
    "model_dec_conv.add(Dense(units=32, activation='sigmoid', input_shape=(784,)))\n",
    "model_dec_conv.add(Dense(units=10, activation='softmax'))\n",
    "model_dec_conv.summary()"
   ]
  },
  {
   "cell_type": "code",
   "execution_count": 30,
   "metadata": {},
   "outputs": [
    {
     "data": {
      "image/png": "[encoded data removed]",
      "text/plain": [
       "<Figure size 432x288 with 1 Axes>"
      ]
     },
     "metadata": {
      "needs_background": "light"
     },
     "output_type": "display_data"
    },
    {
     "name": "stdout",
     "output_type": "stream",
     "text": [
      "Test loss: 0.399\n",
      "Test accuracy: 0.887\n"
     ]
    }
   ],
   "source": [
    "model_dec_conv.compile(optimizer=\"sgd\", loss='categorical_crossentropy', metrics=['accuracy'])\n",
    "history = model_dec_conv.fit(decoded_imgs_train, y_train, batch_size=128, epochs=35, verbose=False, validation_split=.1)\n",
    "loss, accuracy  = model_dec_conv.evaluate(decoded_imgs, y_test, verbose=False)\n",
    "#print(history.history.keys())\n",
    "plt.plot(history.history['accuracy'])\n",
    "plt.plot(history.history['val_accuracy'])\n",
    "plt.title('model accuracy')\n",
    "plt.ylabel('accuracy')\n",
    "plt.xlabel('epoch')\n",
    "plt.legend(['training', 'validation'], loc='best')\n",
    "plt.show()\n",
    "\n",
    "print(f'Test loss: {loss:.3}')\n",
    "print(f'Test accuracy: {accuracy:.3}')"
   ]
  },
  {
   "cell_type": "code",
   "execution_count": 105,
   "metadata": {},
   "outputs": [],
   "source": [
    "#autoencoder.save_weights(\"conv_autoencoder_wts.h5\")"
   ]
  },
  {
   "cell_type": "code",
   "execution_count": 103,
   "metadata": {},
   "outputs": [],
   "source": [
    "np.save('conv_intermediate_file', encoded_imgs)\n",
    "np.save('conv_intermediate_file_Train', encoded_imgs_train)"
   ]
  },
  {
   "cell_type": "code",
   "execution_count": 104,
   "metadata": {},
   "outputs": [
    {
     "data": {
      "text/plain": [
       "(10000, 128)"
      ]
     },
     "execution_count": 104,
     "metadata": {},
     "output_type": "execute_result"
    }
   ],
   "source": [
    "(enc_X_test, enc_Y_test), (enc_X_train, enc_Y_train) = get_data(\"mnist_convolusional\")\n",
    "enc_X_test.shape"
   ]
  },
  {
   "cell_type": "markdown",
   "metadata": {},
   "source": [
    "# DENOISING"
   ]
  },
  {
   "cell_type": "code",
   "execution_count": 31,
   "metadata": {},
   "outputs": [],
   "source": [
    "(X_train, y_train), (X_test, y_test) = mnist.load_data()\n",
    "\n",
    "X_train = X_train.reshape(X_train.shape[0], 28, 28, 1)\n",
    "X_test = X_test.reshape(X_test.shape[0], 28, 28, 1)\n",
    "\n",
    "X_train = X_train.astype(\"float32\")/255.\n",
    "X_test = X_test.astype(\"float32\")/255."
   ]
  },
  {
   "cell_type": "code",
   "execution_count": 32,
   "metadata": {},
   "outputs": [],
   "source": [
    "#ADDING NOISE\n",
    "noise_factor = 0.5\n",
    "X_train_noisy = X_train + noise_factor * np.random.normal(loc=0.0, scale=1.0, size=X_train.shape) \n",
    "X_test_noisy = X_test + noise_factor * np.random.normal(loc=0.0, scale=1.0, size=X_test.shape) \n",
    "\n",
    "X_train_noisy = np.clip(X_train_noisy, 0., 1.)\n",
    "X_test_noisy = np.clip(X_test_noisy, 0., 1.)"
   ]
  },
  {
   "cell_type": "code",
   "execution_count": 33,
   "metadata": {},
   "outputs": [],
   "source": [
    "x = Input(shape=(28, 28, 1))\n",
    "\n",
    "# Encoder\n",
    "conv1_1 = Conv2D(32, (3, 3), activation='relu', padding='same')(x)\n",
    "pool1 = MaxPooling2D((2, 2), padding='same')(conv1_1)\n",
    "conv1_2 = Conv2D(32, (3, 3), activation='relu', padding='same')(pool1)\n",
    "h = MaxPooling2D((2, 2), padding='same')(conv1_2)\n",
    "\n",
    "\n",
    "# Decoder\n",
    "conv2_1 = Conv2D(32, (3, 3), activation='relu', padding='same')(h)\n",
    "up1 = UpSampling2D((2, 2))(conv2_1)\n",
    "conv2_2 = Conv2D(32, (3, 3), activation='relu', padding='same')(up1)\n",
    "up2 = UpSampling2D((2, 2))(conv2_2)\n",
    "r = Conv2D(1, (3, 3), activation='sigmoid', padding='same')(up2)\n",
    "\n",
    "autoencoder = Model(inputs=x, outputs=r)\n",
    "Encoder = Model(x,h)\n",
    "autoencoder.compile(optimizer='adadelta', loss='binary_crossentropy')"
   ]
  },
  {
   "cell_type": "code",
   "execution_count": 35,
   "metadata": {},
   "outputs": [
    {
     "name": "stdout",
     "output_type": "stream",
     "text": [
      "Train on 60000 samples, validate on 10000 samples\n",
      "Epoch 1/14\n",
      "60000/60000 [==============================] - 112s 2ms/step - loss: 0.1312 - val_loss: 0.1157\n",
      "Epoch 2/14\n",
      "60000/60000 [==============================] - 110s 2ms/step - loss: 0.1149 - val_loss: 0.1098\n",
      "Epoch 3/14\n",
      "60000/60000 [==============================] - 110s 2ms/step - loss: 0.1097 - val_loss: 0.1059\n",
      "Epoch 4/14\n",
      "60000/60000 [==============================] - 109s 2ms/step - loss: 0.1068 - val_loss: 0.1059\n",
      "Epoch 5/14\n",
      "60000/60000 [==============================] - 108s 2ms/step - loss: 0.1048 - val_loss: 0.1047\n",
      "Epoch 6/14\n",
      "60000/60000 [==============================] - 113s 2ms/step - loss: 0.1036 - val_loss: 0.1016\n",
      "Epoch 7/14\n",
      "60000/60000 [==============================] - 113s 2ms/step - loss: 0.1025 - val_loss: 0.1005\n",
      "Epoch 8/14\n",
      "60000/60000 [==============================] - 114s 2ms/step - loss: 0.1017 - val_loss: 0.1004\n",
      "Epoch 9/14\n",
      "60000/60000 [==============================] - 117s 2ms/step - loss: 0.1012 - val_loss: 0.0992\n",
      "Epoch 10/14\n",
      "60000/60000 [==============================] - 119s 2ms/step - loss: 0.1006 - val_loss: 0.1001\n",
      "Epoch 11/14\n",
      "60000/60000 [==============================] - 128s 2ms/step - loss: 0.1001 - val_loss: 0.0992\n",
      "Epoch 12/14\n",
      "60000/60000 [==============================] - 127s 2ms/step - loss: 0.0998 - val_loss: 0.0998\n",
      "Epoch 13/14\n",
      "60000/60000 [==============================] - 124s 2ms/step - loss: 0.0994 - val_loss: 0.0985\n",
      "Epoch 14/14\n",
      "60000/60000 [==============================] - 125s 2ms/step - loss: 0.0992 - val_loss: 0.0985\n"
     ]
    }
   ],
   "source": [
    "epochs = 14\n",
    "batch_size = 128\n",
    "\n",
    "history = autoencoder.fit(X_train_noisy, X_train, batch_size=batch_size, epochs=epochs, verbose=1, validation_data=(X_test_noisy, X_test))"
   ]
  },
  {
   "cell_type": "code",
   "execution_count": 36,
   "metadata": {},
   "outputs": [],
   "source": [
    "decoded_imgs = autoencoder.predict(X_test_noisy)\n",
    "decoded_imgs_train = autoencoder.predict(X_train_noisy)\n",
    "\n",
    "encoded_imgs = Encoder.predict(X_test_noisy)\n",
    "encoded_imgs_train = Encoder.predict(X_train_noisy)\n",
    "\n",
    "encoded_imgs_train = encoded_imgs_train.reshape((len(encoded_imgs_train), np.prod(encoded_imgs_train.shape[1:])))\n",
    "encoded_imgs = encoded_imgs.reshape((len(encoded_imgs), np.prod(encoded_imgs.shape[1:])))\n",
    "\n",
    "decoded_imgs_train = decoded_imgs_train.reshape((len(decoded_imgs_train), np.prod(decoded_imgs_train.shape[1:])))\n",
    "decoded_imgs = decoded_imgs.reshape((len(decoded_imgs), np.prod(decoded_imgs.shape[1:])))"
   ]
  },
  {
   "cell_type": "code",
   "execution_count": 37,
   "metadata": {},
   "outputs": [
    {
     "data": {
      "image/png": "[encoded data removed]",
      "text/plain": [
       "<Figure size 1440x432 with 20 Axes>"
      ]
     },
     "metadata": {
      "needs_background": "light"
     },
     "output_type": "display_data"
    }
   ],
   "source": [
    "n = 10\n",
    "plt.figure(figsize=(20, 6))\n",
    "for i in range(n):\n",
    "    # display original\n",
    "    ax = plt.subplot(3, n, i+1)\n",
    "    plt.imshow(X_test_noisy[i].reshape(28, 28))\n",
    "    plt.gray()\n",
    "    ax.get_xaxis().set_visible(False)\n",
    "    ax.get_yaxis().set_visible(False)\n",
    "\n",
    "    \n",
    "    # display reconstruction\n",
    "    ax = plt.subplot(3, n, i+n+1)\n",
    "    plt.imshow(decoded_imgs[i].reshape(28, 28))\n",
    "    plt.gray()\n",
    "    ax.get_xaxis().set_visible(False)\n",
    "    ax.get_yaxis().set_visible(False)\n",
    "    \n",
    "plt.show()"
   ]
  },
  {
   "cell_type": "code",
   "execution_count": 38,
   "metadata": {},
   "outputs": [
    {
     "name": "stdout",
     "output_type": "stream",
     "text": [
      "dict_keys(['val_loss', 'loss'])\n"
     ]
    },
    {
     "data": {
      "image/png": "[encoded data removed]",
      "text/plain": [
       "<Figure size 432x288 with 1 Axes>"
      ]
     },
     "metadata": {
      "needs_background": "light"
     },
     "output_type": "display_data"
    }
   ],
   "source": [
    "print(history.history.keys())\n",
    "\n",
    "plt.plot(history.history['loss'])\n",
    "plt.plot(history.history['val_loss'])\n",
    "plt.title('model loss')\n",
    "plt.ylabel('loss')\n",
    "plt.xlabel('epoch')\n",
    "plt.legend(['train', 'validation'], loc='upper right')\n",
    "plt.show()"
   ]
  },
  {
   "cell_type": "code",
   "execution_count": 39,
   "metadata": {},
   "outputs": [
    {
     "name": "stdout",
     "output_type": "stream",
     "text": [
      "Model: \"sequential_6\"\n",
      "_________________________________________________________________\n",
      "Layer (type)                 Output Shape              Param #   \n",
      "=================================================================\n",
      "dense_15 (Dense)             (None, 32)                50208     \n",
      "_________________________________________________________________\n",
      "dense_16 (Dense)             (None, 10)                330       \n",
      "=================================================================\n",
      "Total params: 50,538\n",
      "Trainable params: 50,538\n",
      "Non-trainable params: 0\n",
      "_________________________________________________________________\n"
     ]
    }
   ],
   "source": [
    "model_enc_de = Sequential()\n",
    "\n",
    "model_enc_de.add(Dense(units=32, activation='sigmoid', input_shape=(1568,)))\n",
    "model_enc_de.add(Dense(units=10, activation='softmax'))\n",
    "model_enc_de.summary()"
   ]
  },
  {
   "cell_type": "code",
   "execution_count": 40,
   "metadata": {},
   "outputs": [
    {
     "data": {
      "image/png": "[encoded data removed]",
      "text/plain": [
       "<Figure size 432x288 with 1 Axes>"
      ]
     },
     "metadata": {
      "needs_background": "light"
     },
     "output_type": "display_data"
    },
    {
     "name": "stdout",
     "output_type": "stream",
     "text": [
      "Test loss: 0.297\n",
      "Test accuracy: 0.92\n"
     ]
    }
   ],
   "source": [
    "model_enc_de.compile(optimizer=\"sgd\", loss='categorical_crossentropy', metrics=['accuracy'])\n",
    "history = model_enc_de.fit(encoded_imgs_train, y_train, batch_size=128, epochs=35, verbose=False, validation_split=.1)\n",
    "loss, accuracy  = model_enc_de.evaluate(encoded_imgs, y_test, verbose=False)\n",
    "#print(history.history.keys())\n",
    "plt.plot(history.history['accuracy'])\n",
    "plt.plot(history.history['val_accuracy'])\n",
    "plt.title('model accuracy')\n",
    "plt.ylabel('accuracy')\n",
    "plt.xlabel('epoch')\n",
    "plt.legend(['training', 'validation'], loc='best')\n",
    "plt.show()\n",
    "\n",
    "print(f'Test loss: {loss:.3}')\n",
    "print(f'Test accuracy: {accuracy:.3}')"
   ]
  },
  {
   "cell_type": "code",
   "execution_count": 41,
   "metadata": {},
   "outputs": [
    {
     "name": "stdout",
     "output_type": "stream",
     "text": [
      "Model: \"sequential_7\"\n",
      "_________________________________________________________________\n",
      "Layer (type)                 Output Shape              Param #   \n",
      "=================================================================\n",
      "dense_17 (Dense)             (None, 32)                25120     \n",
      "_________________________________________________________________\n",
      "dense_18 (Dense)             (None, 10)                330       \n",
      "=================================================================\n",
      "Total params: 25,450\n",
      "Trainable params: 25,450\n",
      "Non-trainable params: 0\n",
      "_________________________________________________________________\n"
     ]
    }
   ],
   "source": [
    "model_dec_de = Sequential()\n",
    "\n",
    "model_dec_de.add(Dense(units=32, activation='sigmoid', input_shape=(784,)))\n",
    "model_dec_de.add(Dense(units=10, activation='softmax'))\n",
    "model_dec_de.summary()"
   ]
  },
  {
   "cell_type": "code",
   "execution_count": 42,
   "metadata": {},
   "outputs": [
    {
     "data": {
      "image/png": "[encoded data removed]",
      "text/plain": [
       "<Figure size 432x288 with 1 Axes>"
      ]
     },
     "metadata": {
      "needs_background": "light"
     },
     "output_type": "display_data"
    },
    {
     "name": "stdout",
     "output_type": "stream",
     "text": [
      "Test loss: 0.396\n",
      "Test accuracy: 0.895\n"
     ]
    }
   ],
   "source": [
    "model_dec_de.compile(optimizer=\"sgd\", loss='categorical_crossentropy', metrics=['accuracy'])\n",
    "history = model_dec_de.fit(decoded_imgs_train, y_train, batch_size=128, epochs=35, verbose=False, validation_split=.1)\n",
    "loss, accuracy  = model_dec_de.evaluate(decoded_imgs, y_test, verbose=False)\n",
    "#print(history.history.keys())\n",
    "plt.plot(history.history['accuracy'])\n",
    "plt.plot(history.history['val_accuracy'])\n",
    "plt.title('model accuracy')\n",
    "plt.ylabel('accuracy')\n",
    "plt.xlabel('epoch')\n",
    "plt.legend(['training', 'validation'], loc='best')\n",
    "plt.show()\n",
    "\n",
    "print(f'Test loss: {loss:.3}')\n",
    "print(f'Test accuracy: {accuracy:.3}')"
   ]
  },
  {
   "cell_type": "code",
   "execution_count": 46,
   "metadata": {},
   "outputs": [],
   "source": [
    "X_train_noisy = X_train_noisy.reshape((len(X_train_noisy), np.prod(X_train_noisy.shape[1:])))\n",
    "X_test_noisy = X_test_noisy.reshape((len(X_test_noisy), np.prod(X_test_noisy.shape[1:])))"
   ]
  },
  {
   "cell_type": "code",
   "execution_count": 47,
   "metadata": {},
   "outputs": [
    {
     "name": "stdout",
     "output_type": "stream",
     "text": [
      "Model: \"sequential_10\"\n",
      "_________________________________________________________________\n",
      "Layer (type)                 Output Shape              Param #   \n",
      "=================================================================\n",
      "dense_23 (Dense)             (None, 32)                25120     \n",
      "_________________________________________________________________\n",
      "dense_24 (Dense)             (None, 10)                330       \n",
      "=================================================================\n",
      "Total params: 25,450\n",
      "Trainable params: 25,450\n",
      "Non-trainable params: 0\n",
      "_________________________________________________________________\n"
     ]
    }
   ],
   "source": [
    "model_de = Sequential()\n",
    "\n",
    "model_de.add(Dense(units=32, activation='sigmoid', input_shape=(784,)))\n",
    "model_de.add(Dense(units=10, activation='softmax'))\n",
    "model_de.summary()"
   ]
  },
  {
   "cell_type": "code",
   "execution_count": 48,
   "metadata": {},
   "outputs": [
    {
     "data": {
      "image/png": "[encoded data removed]",
      "text/plain": [
       "<Figure size 432x288 with 1 Axes>"
      ]
     },
     "metadata": {
      "needs_background": "light"
     },
     "output_type": "display_data"
    },
    {
     "name": "stdout",
     "output_type": "stream",
     "text": [
      "Test loss: 0.548\n",
      "Test accuracy: 0.843\n"
     ]
    }
   ],
   "source": [
    "model_de.compile(optimizer=\"sgd\", loss='categorical_crossentropy', metrics=['accuracy'])\n",
    "history = model_de.fit(X_train_noisy, y_train, batch_size=128, epochs=35, verbose=False, validation_split=.1)\n",
    "loss, accuracy  = model_de.evaluate(X_test_noisy, y_test, verbose=False)\n",
    "#print(history.history.keys())\n",
    "plt.plot(history.history['accuracy'])\n",
    "plt.plot(history.history['val_accuracy'])\n",
    "plt.title('model accuracy')\n",
    "plt.ylabel('accuracy')\n",
    "plt.xlabel('epoch')\n",
    "plt.legend(['training', 'validation'], loc='best')\n",
    "plt.show()\n",
    "\n",
    "print(f'Test loss: {loss:.3}')\n",
    "print(f'Test accuracy: {accuracy:.3}')"
   ]
  },
  {
   "cell_type": "code",
   "execution_count": null,
   "metadata": {},
   "outputs": [],
   "source": []
  },
  {
   "cell_type": "markdown",
   "metadata": {},
   "source": [
    "# Predicting with encoded data"
   ]
  },
  {
   "cell_type": "code",
   "execution_count": 108,
   "metadata": {},
   "outputs": [
    {
     "data": {
      "text/plain": [
       "(10000, 64)"
      ]
     },
     "execution_count": 108,
     "metadata": {},
     "output_type": "execute_result"
    }
   ],
   "source": [
    "(enc_X_test, enc_Y_test), (enc_X_train, enc_Y_train) = get_data(\"mnist\")\n",
    "enc_X_test.shape"
   ]
  },
  {
   "cell_type": "code",
   "execution_count": 109,
   "metadata": {},
   "outputs": [
    {
     "data": {
      "image/png": "[encoded data removed]",
      "text/plain": [
       "<Figure size 432x288 with 1 Axes>"
      ]
     },
     "metadata": {
      "needs_background": "light"
     },
     "output_type": "display_data"
    },
    {
     "name": "stdout",
     "output_type": "stream",
     "text": [
      "Test loss: 0.316\n",
      "Test accuracy: 0.918\n"
     ]
    }
   ],
   "source": [
    "model_test = Sequential()\n",
    "\n",
    "model_test.add(Dense(units=32, activation='sigmoid', input_shape=(64,)))\n",
    "model_test.add(Dense(units=10, activation='softmax'))\n",
    "\n",
    "model_test.compile(optimizer=\"sgd\", loss='categorical_crossentropy', metrics=['accuracy'])\n",
    "history = model_test.fit(enc_X_train, enc_Y_train, batch_size=128, epochs=35, verbose=False, validation_split=.1)\n",
    "loss, accuracy  = model_test.evaluate(enc_X_test, enc_Y_test, verbose=False)\n",
    "#print(history.history.keys())\n",
    "plt.plot(history.history['accuracy'])\n",
    "plt.plot(history.history['val_accuracy'])\n",
    "plt.title('model accuracy')\n",
    "plt.ylabel('accuracy')\n",
    "plt.xlabel('epoch')\n",
    "plt.legend(['training', 'validation'], loc='best')\n",
    "plt.show()\n",
    "\n",
    "print(f'Test loss: {loss:.3}')\n",
    "print(f'Test accuracy: {accuracy:.3}')"
   ]
  },
  {
   "cell_type": "code",
   "execution_count": 43,
   "metadata": {},
   "outputs": [
    {
     "name": "stdout",
     "output_type": "stream",
     "text": [
      "Model: \"sequential_8\"\n",
      "_________________________________________________________________\n",
      "Layer (type)                 Output Shape              Param #   \n",
      "=================================================================\n",
      "dense_19 (Dense)             (None, 32)                25120     \n",
      "_________________________________________________________________\n",
      "dense_20 (Dense)             (None, 10)                330       \n",
      "=================================================================\n",
      "Total params: 25,450\n",
      "Trainable params: 25,450\n",
      "Non-trainable params: 0\n",
      "_________________________________________________________________\n"
     ]
    }
   ],
   "source": [
    "model_de = Sequential()\n",
    "\n",
    "model_de.add(Dense(units=32, activation='sigmoid', input_shape=(784,)))\n",
    "model_de.add(Dense(units=10, activation='softmax'))\n",
    "model_de.summary()"
   ]
  },
  {
   "cell_type": "code",
   "execution_count": 50,
   "metadata": {},
   "outputs": [],
   "source": [
    "autoencoder.save_weights(\"de_autoencoder_wts.h5\")"
   ]
  },
  {
   "cell_type": "code",
   "execution_count": null,
   "metadata": {},
   "outputs": [],
   "source": []
  }
 ],
 "metadata": {
  "kernelspec": {
   "display_name": "Python 3",
   "language": "python",
   "name": "python3"
  },
  "language_info": {
   "codemirror_mode": {
    "name": "ipython",
    "version": 3
   },
   "file_extension": ".py",
   "mimetype": "text/x-python",
   "name": "python",
   "nbconvert_exporter": "python",
   "pygments_lexer": "ipython3",
   "version": "3.7.3"
  }
 },
 "nbformat": 4,
 "nbformat_minor": 2
}
